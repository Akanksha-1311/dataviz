{
 "cells": [
  {
   "cell_type": "markdown",
   "metadata": {
    "id": "A6iFUUQLNDlE"
   },
   "source": [
    "<table class=\"m01-notebook-buttons\" align=\"left\">\n",
    "  <td>\n",
    "    <a target=\"_blank\" href=\"https://colab.research.google.com/github/filipinascimento/dataviz/blob/master/docs/w02-recap_setup/assignment_w2_sol.ipynb\"><img src=\"https://www.tensorflow.org/images/colab_logo_32px.png\" />Run in Google Colab</a>\n",
    "  </td>\n",
    "  <td>\n",
    "    <a href=\"https://filipinascimento.github.io/dataviz/w02-recap_setup/assignment_w2_sol\"><img src=\"https://www.tensorflow.org/images/GitHub-Mark-32px.png\" />View on Github</a>\n",
    "  </td>\n",
    "  <td>\n",
    "    <a href=\"https://raw.githubusercontent.com/filipinascimento/dataviz/blob/master/docs/w02-recap_setup/assignment_w2_sol.ipynb\"><img src=\"https://www.tensorflow.org/images/GitHub-Mark-32px.png\" />View raw on Github</a>\n",
    "  </td>\n",
    "</table>\n"
   ]
  },
  {
   "cell_type": "markdown",
   "metadata": {
    "id": "9p-FFN_yNDlH"
   },
   "source": [
    "# Assignment 2: Exploring Solar System Bodies\n",
    "Welcome to Assignment 2! In this assignment, we will analyze data about celestial bodies in the solar system using Python, NumPy, and Pandas. \n",
    "The goal is to familiarize yourself with:\n",
    "- Handling JSON datasets.\n",
    "- Applying statistical analysis.\n",
    "- Refining Python programming skills.\n",
    "\n",
    "Make sure to run this notebook in Jupyter or an equivalent environment. Each section includes code cells with placeholders or hints for you to fill out.\n"
   ]
  },
  {
   "cell_type": "code",
   "execution_count": null,
   "metadata": {
    "id": "2z4vxHkNOKvz"
   },
   "outputs": [],
   "source": [
    "# if you are running this notebook in your local machine, make sure you have all the dependencies installed\n",
    "# uncomment the following lines to install the dependencies\n",
    "# !pip install numpy pandas\n",
    "# also copy the data file to the same directory as this notebook"
   ]
  },
  {
   "cell_type": "markdown",
   "metadata": {},
   "source": [
    "### Instructions\n",
    "\n",
    "1. Ensure that you have Python, Jupyter Notebook, and the necessary libraries installed (`NumPy` and `Pandas`).\n",
    "2. Load the dataset `Datasets/sol_data.json` into a Pandas DataFrame.\n",
    "3. Answer the questions below by writing Python code.\n",
    "4. No plots or visualizations are required—your insights should come from code-based analysis and outputs.\n",
    "\n",
    "### Dataset Overview\n",
    "The dataset contains information about celestial objects, including:\n",
    "- **isPlanet**: Indicates whether the object is a planet (`True` or `False`).\n",
    "- **orbit_type**: Classifies the object as \"Primary\" (planets) or \"Secondary\" (moons).\n",
    "- Physical and orbital properties, such as **mass**, **density**, **meanRadius**, **gravity**, **sideralOrbit**, and more.\n",
    "\n",
    "---"
   ]
  },
  {
   "cell_type": "code",
   "execution_count": null,
   "metadata": {
    "id": "BabmrjoRNDlN"
   },
   "outputs": [],
   "source": [
    "import pandas as pd\n",
    "import numpy as np\n",
    "\n",
    "# Load the dataset\n",
    "data = pd.read_json('Datasets/sol_data.json')\n",
    "data.head()"
   ]
  },
  {
   "cell_type": "markdown",
   "metadata": {},
   "source": [
    "### 1. General Information\n",
    "\n",
    "- How many objects are in the dataset?\n",
    "- How many are planets? How many are moons?\n"
   ]
  },
  {
   "cell_type": "code",
   "execution_count": null,
   "metadata": {
    "id": "nhy-_f8eNDlO",
    "inputHidden": false,
    "jupyter": {
     "outputs_hidden": false
    },
    "outputHidden": false
   },
   "outputs": [],
   "source": [
    "# Total number of objects\n",
    "# Fill in code to calculate total number of objects\n",
    "\n",
    "# Number of planets\n",
    "# Fill in code to calculate number of planets\n",
    "\n",
    "# Number of moons\n",
    "# Fill in code to calculate number of moons"
   ]
  },
  {
   "cell_type": "markdown",
   "metadata": {},
   "source": [
    "### 2. Planets\n",
    "\n",
    "- What is the mean density of all planets?\n",
    "- Which planet has the highest surface gravity, and what is its gravity value?\n",
    "- List all planets in descending order of their mass.\n"
   ]
  },
  {
   "cell_type": "code",
   "execution_count": null,
   "metadata": {},
   "outputs": [],
   "source": [
    "\n",
    "# Mean density of all planets\n",
    "# Fill in code\n",
    "\n",
    "# Planet with the highest surface gravity\n",
    "# Fill in code\n",
    "\n",
    "# Planets by descending mass\n",
    "# Fill in code\n"
   ]
  },
  {
   "cell_type": "markdown",
   "metadata": {},
   "source": [
    "### 3. Moons\n",
    "- How many moons orbit each planet? Present this as a table or dictionary.\n",
    "- What is the average radius (meanRadius) of all moons?\n",
    "- Compare the average surface gravity of moons to that of planets.\n"
   ]
  },
  {
   "cell_type": "code",
   "execution_count": null,
   "metadata": {},
   "outputs": [],
   "source": [
    "# Number of moons orbiting each planet\n",
    "# Fill in code\n",
    "\n",
    "# Average radius of all moons\n",
    "# Fill in code\n",
    "\n",
    "# Compare average surface gravity of moons vs. planets\n",
    "# Fill in code\n"
   ]
  },
  {
   "cell_type": "markdown",
   "metadata": {},
   "source": [
    "### 4. Orbital Properties\n",
    "\n",
    "- Which object has the highest orbital eccentricity, and what is its value?\n",
    "- Calculate the average semi-major axis (semimajorAxis) for planets and compare it to that of moons.\n",
    "- Identify the moon with the shortest orbital period (sideralOrbit) and the planet it orbits.\n"
   ]
  },
  {
   "cell_type": "code",
   "execution_count": null,
   "metadata": {},
   "outputs": [],
   "source": [
    "# Highest orbital eccentricity\n",
    "# Fill in code\n",
    "\n",
    "# Average semi-major axis of planets vs. moons\n",
    "# Fill in code\n",
    "\n",
    "# Moon with the shortest orbital period\n",
    "# Fill in code"
   ]
  },
  {
   "cell_type": "markdown",
   "metadata": {},
   "source": [
    "### 5. Discovery Dates\n",
    "\n",
    "- How many objects have recorded discovery dates?\n",
    "- Which is the oldest discovered moon, and when was it discovered?\n"
   ]
  },
  {
   "cell_type": "code",
   "execution_count": null,
   "metadata": {},
   "outputs": [],
   "source": [
    "# Objects with discovery dates\n",
    "# Fill in code\n",
    "\n",
    "# Oldest discovered moon\n",
    "# Fill in code"
   ]
  },
  {
   "cell_type": "markdown",
   "metadata": {},
   "source": [
    "### 6. Advanced Analysis\n",
    "\n",
    "- Calculate the average density of moons that orbit planets with a mass greater than Earth's mass (`5.97e24 kg`).\n",
    "- Group all objects by their `orbit_type` and compute the average orbital eccentricity for each group.\n",
    "- Identify the top 3 moons with the highest escape velocity (escape).\n"
   ]
  },
  {
   "cell_type": "code",
   "execution_count": null,
   "metadata": {},
   "outputs": [],
   "source": [
    "# Average density of moons orbiting planets with mass > Earth\n",
    "# Fill in code\n",
    "\n",
    "# Average orbital eccentricity by orbit_type\n",
    "# Fill in code\n",
    "\n",
    "# Top 3 moons with highest escape velocity\n",
    "# Fill in code"
   ]
  },
  {
   "cell_type": "markdown",
   "metadata": {},
   "source": [
    "### 7. Extra questions\n",
    "\n",
    "1. How many moons have a mass less than 10% of Earth's moon? What percentage of all moons does this represent?\n",
    "2. Calculate the ratio of moons to planets in the dataset. Which planet has the highest number of moons relative to its mass?\n",
    "3. Group moons by their host planet and calculate the average density for each group. Which planet hosts moons with the highest average density?"
   ]
  },
  {
   "cell_type": "code",
   "execution_count": null,
   "metadata": {},
   "outputs": [],
   "source": [
    "# Moons with a mass less than Earth's moon and percentage\n",
    "# Fill in code\n",
    "\n",
    "# Ratio of moons to planets and planet with highest moon to mass ratio\n",
    "# Fill in code\n",
    "\n",
    "# Average density of moons per planet\n",
    "# Fill in code\n"
   ]
  },
  {
   "cell_type": "markdown",
   "metadata": {},
   "source": [
    "### Submission Guidelines\n",
    "\n",
    "- Submit your completed notebook as a .ipynb file, html export, or a PDF file"
   ]
  }
 ],
 "metadata": {
  "anaconda-cloud": {},
  "colab": {
   "provenance": [
    {
     "file_id": "https://github.com/yy/dviz-course/blob/master/m01-intro/lab01.ipynb",
     "timestamp": 1683497199468
    }
   ]
  },
  "kernel_info": {
   "name": "dviz"
  },
  "kernelspec": {
   "display_name": "dviz",
   "language": "python",
   "name": "dviz"
  },
  "language_info": {
   "codemirror_mode": {
    "name": "ipython",
    "version": 3
   },
   "file_extension": ".py",
   "mimetype": "text/x-python",
   "name": "python",
   "nbconvert_exporter": "python",
   "pygments_lexer": "ipython3",
   "version": "3.8.10"
  },
  "nteract": {
   "version": "0.14.5"
  }
 },
 "nbformat": 4,
 "nbformat_minor": 0
}
