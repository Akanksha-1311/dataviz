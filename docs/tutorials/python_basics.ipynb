{
 "cells": [
  {
   "cell_type": "markdown",
   "metadata": {},
   "source": [
    "# Tutorial Python"
   ]
  },
  {
   "cell_type": "markdown",
   "metadata": {},
   "source": [
    "Are you still new to Python? Or your python skill is a bit rusty?\n",
    "\n",
    "Then, feel free to use this to learn or refresh Python basics! You don't have to submit this notebook. It is just for your own reference.\n",
    "\n",
    "We begin by focusing on constructing and executing Python scripts. This fundamental skill allows you to instruct your computer to perform a multitude of tasks. As you master this technique, you will be able to transform abstract ideas into executable programs, opening up a world of possibilities for automation and efficient problem-solving.\n",
    "\n",
    "Moving forward, we will dive into loops and conditional statements. These powerful constructs enable your programs to dynamically react to varying scenarios and diverse data inputs. Leveraging these tools allows for the creation of responsive and adaptive code, which is essential for tackling complex challenges.\n",
    "\n",
    "Towards the end of the module, we'll explore the concept of reusable functions. Crafting well-structured functions not only enhances the modularity and reusability of your code, but also simplifies maintenance. This skill is paramount for reducing redundancy, streamlining debugging, and ensuring that your code remains clear and adaptable.\n",
    "\n",
    "We will also cover file I/O, loading data, list comprehensions, lambda functions, and installing packages.\n",
    "\n",
    "## Objectives\n",
    "\n",
    "- **Construct and Execute Python Scripts:** Develop the ability to write and run basic Python scripts that adhere to standard syntax, establishing a firm foundation in programming.\n",
    "- **Apply Loops and Conditional Statements:** Implement loops and conditional constructs to manipulate data effectively and solve intricate problems.\n",
    "- **Create Reusable Functions:** Design and integrate Python functions that promote modularity and reusability, enhancing both code efficiency and maintainability.\n",
    "\n",
    "## The topics covered in this module:\n",
    "* Variables and built in datatypes\n",
    "* Printing and user input\n",
    "* Operators\n",
    "* Lists and Tuples\n",
    "* Dictionaries\n",
    "* Sets\n",
    "* Flow control\n",
    "* Importing Modules\n",
    "* Defining Functions\n",
    "* File I/O\n",
    "* Loading Data (JSON, CSV)\n",
    "* List Comprehensions\n",
    "* Lambda Functions\n",
    "* Installing Packages\n"
   ]
  },
  {
   "cell_type": "markdown",
   "metadata": {},
   "source": [
    " ## 1. Variables and built-in data types"
   ]
  },
  {
   "cell_type": "markdown",
   "metadata": {},
   "source": [
    " ### 1.1 Basic and variables"
   ]
  },
  {
   "cell_type": "markdown",
   "metadata": {},
   "source": [
    " You can comment in Python using `#`. Comments are ignored by the Python interpreter.\n",
    "\n",
    " To define a variable, assign a value to a variable name. Python will automatically detect the data type. The syntax is `variable_name = value`. You can print a variable using the `print(variable_name)` function.\n",
    "\n"
   ]
  },
  {
   "cell_type": "code",
   "execution_count": null,
   "metadata": {},
   "outputs": [],
   "source": [
    "# This is a comment and will be ignored by the interpreter\n",
    "a_variable = \"the value\"\n",
    "# This is another comment and will also be ignored by the interpreter\n",
    "print(a_variable)\n"
   ]
  },
  {
   "cell_type": "markdown",
   "metadata": {},
   "source": [
    " Variables can be reassigned with a different value and data type. For example, you can change an integer to a string:"
   ]
  },
  {
   "cell_type": "code",
   "execution_count": null,
   "metadata": {},
   "outputs": [],
   "source": [
    "a_variable = 10\n",
    "print(a_variable)  # Output: 10\n",
    "a_variable = \"Now I'm a string!\"\n",
    "print(a_variable)  # Output: Now I'm a string!\n"
   ]
  },
  {
   "cell_type": "markdown",
   "metadata": {},
   "source": [
    " **Q:** Create two variables and then swap their values. Print the variables before and after the swap.\n",
    "  - For example if `a = 1` and `b = 2`, after the swap `a = 2` and `b = 1`."
   ]
  },
  {
   "cell_type": "code",
   "execution_count": null,
   "metadata": {},
   "outputs": [],
   "source": [
    "# TODO: Write your code here\n"
   ]
  },
  {
   "cell_type": "markdown",
   "metadata": {},
   "source": [
    " ### 1.2 Printing composed variables and text\n",
    "\n",
    " Use the `print()` function to print variables and text. You can use the `+` operator to concatenate strings. You can also concatenate variables and strings by separating them with a comma."
   ]
  },
  {
   "cell_type": "code",
   "execution_count": null,
   "metadata": {},
   "outputs": [],
   "source": [
    "print(\"Hello, World!\")  # Output: Hello, World!\n",
    "\n",
    "# Example of print with concatenation\n",
    "a_planet = \"Earth\"\n",
    "print(\"Hello from \" + a_planet + \"!\")\n",
    "# Output: Hello from Earth!\n",
    "\n",
    "# Example of print with comma separated values\n",
    "a_planet = \"Mars\"\n",
    "another_planet = \"Jupiter\"\n",
    "print(\"Hello from\", a_planet, \"and\", another_planet + \"!\")\n",
    "# Output: Hello from Mars and Jupiter!\n",
    "\n"
   ]
  },
  {
   "cell_type": "markdown",
   "metadata": {},
   "source": [
    " Another way to format text is using the f-string method. You can use f-string by adding an `f` before the string and then use curly braces `{}` to insert variables."
   ]
  },
  {
   "cell_type": "code",
   "execution_count": null,
   "metadata": {},
   "outputs": [],
   "source": [
    "# Example of f-string print\n",
    "a_planet = \"Earth\"\n",
    "another_planet = \"Mars\"\n",
    "print(f\"Hello from {a_planet} and {another_planet}!\")  # Output: Hello from Earth and Mars!\n"
   ]
  },
  {
   "cell_type": "markdown",
   "metadata": {},
   "source": [
    " ### 1.3 Int and Float\n",
    "\n",
    " Numbers can be stored in variables. Integers are whole numbers, while floats are numbers with decimal points. Example: `x = 5` or `y = 3.14`."
   ]
  },
  {
   "cell_type": "code",
   "execution_count": null,
   "metadata": {},
   "outputs": [],
   "source": [
    "# Declaring an integer and a float variable\n",
    "x = 10 \n",
    "y = 3.0\n",
    "k = x + y + 100\n",
    "\n",
    "# The value stored in the variable can be inspected by using print statement. \n",
    "# Type of a variable var can be checked by calling type(var) \n",
    "print(\"The value of x is\", x, \"and it is of type\", type(x))\n",
    "\n",
    "# f-strings can be used to write more elegant print statement. \n",
    "print(f\"The value of y is {y} and it is of type {type(y)}\")\n",
    "print(f\"The value of k is {k} and it is of type {type(k)}\")\n",
    "\n",
    "# casting int to float\n",
    "print(f\"x is of type {type(x)}\")\n",
    "x = float(x)\n",
    "print(f\"x is of type {type(x)} after casting\")\n"
   ]
  },
  {
   "cell_type": "markdown",
   "metadata": {},
   "source": [
    " Numbers can also be written in different formats. For example, you can use scientific notation: `z = 1.23e-4` (equivalent to 0.000123)."
   ]
  },
  {
   "cell_type": "code",
   "execution_count": null,
   "metadata": {},
   "outputs": [],
   "source": [
    "# Numbers can also be written in scientific notation\n",
    "x = 1.05e6\n",
    "print(f\"x is {x} and it is of type {type(x)}\")\n",
    "\n",
    "# You can also use _ to make the number more readable\n",
    "x = 1_000_000\n",
    "print(f\"x is {x} and it is of type {type(x)}\")\n"
   ]
  },
  {
   "cell_type": "markdown",
   "metadata": {},
   "source": [
    " You can perform arithmetic operations on numbers. The basic arithmetic operators are `+`, `-`, `*`, `/`, `//` (integer division), and `%` (modulo)."
   ]
  },
  {
   "cell_type": "code",
   "execution_count": null,
   "metadata": {},
   "outputs": [],
   "source": [
    "# Arithmetic operators\n",
    "\n",
    "# Addition\n",
    "z = x + y\n",
    "print(f\"Adding x and y gives {z}\")\n",
    "\n",
    "# Subtraction\n",
    "z = x - y\n",
    "print(f\"Subtracting y from x gives {z}\")\n",
    "\n",
    "# Multiplication\n",
    "z = x * y\n",
    "print(f\"Multiplying x and y gives {z}\")\n",
    "\n",
    "# Division\n",
    "z = x / y \n",
    "print(f\"x divided by y gives {z}\") \n",
    "\n",
    "# Floor Division\n",
    "z = x // y \n",
    "print(f\"x divided by y gives {z} as quotient\") \n",
    "\n",
    "# Modulus Operator\n",
    "z = x % y \n",
    "print(f\"x divided by y gives {z} as reminder\")\n",
    "\n",
    "# Exponentiation\n",
    "z = x ** y\n",
    "print(f\"x raised to y gives {z}\") \n",
    "\n",
    "# self increment by 1\n",
    "x = x + 1\n",
    "# This is equivalent to x += 1\n",
    "print(f\"x + 1 gives {x}\")\n"
   ]
  },
  {
   "cell_type": "markdown",
   "metadata": {},
   "source": [
    " ### 1.4 Booleans and None\n",
    "\n",
    " Bolean values are `True` and `False` and are used to represent binary values. `None` is a special value that represents the absence of a value, when tested, normally it results to `False`."
   ]
  },
  {
   "cell_type": "code",
   "execution_count": null,
   "metadata": {},
   "outputs": [],
   "source": [
    "# True and False are the key words that represent bool values in python\n",
    "a = True\n",
    "b = False\n",
    "\n",
    "print(f\"a is {a} and b is {b}\")\n",
    "print(f\"Type of variable a and b is {type(a)}\")\n",
    "\n",
    "# None in python represents the absence of something; similar to null value\n",
    "c = None \n",
    "print(f\"c is {c} and is of type {type(c)}\")\n",
    "\n",
    "# Any non-zero integer value is true and zero is false.\n",
    "# Also anything with a non-zero length is true and empty sequences are false.\n"
   ]
  },
  {
   "cell_type": "markdown",
   "metadata": {},
   "source": [
    " You can use logical operators `and`, `or`, and `not` to combine boolean values."
   ]
  },
  {
   "cell_type": "code",
   "execution_count": null,
   "metadata": {},
   "outputs": [],
   "source": [
    "# logical operators \n",
    "\n",
    "# and, or and not operate on bool variables\n",
    "# OR operator: Gives True when either of the expressions evaluates to True\n",
    "# expr1 or expr2\n",
    "print(f\"a or b is {a or b}\")\n",
    "print(f\"a or a is {a or a}\")\n",
    "print(f\"b or b is {b or b}\")\n",
    "\n",
    "# AND operator: Gives True when both the expressions evaluates to True\n",
    "# expr1 and expr2\n",
    "print(f\"a and b is {a and b}\")\n",
    "print(f\"a and a is {a and a}\")\n",
    "print(f\"b and b is {b and b}\")\n",
    "\n",
    "# NOT operator: negates a bool\n",
    "# not expr1\n",
    "print(f\"Not of a is {not a}\")\n"
   ]
  },
  {
   "cell_type": "markdown",
   "metadata": {},
   "source": [
    " Comparison operators result in boolean values. The comparison operators are `==` (equal), `!=` (not equal), `>`, `<`, `>=`, and `<=`.\n",
    "\n",
    "\n",
    "\n",
    " You can also combine comparison operators to create more complex conditions, such as `x > 5 and x < 10`, which checks if `x` is between 5 and 10.\n",
    "\n",
    "\n",
    "\n",
    " Additionally, logical operators can be used in conjunction with comparison operators to create more complex conditions, for example: `if x > 5 and x < 10: print(\"x is between 5 and 10\")`."
   ]
  },
  {
   "cell_type": "code",
   "execution_count": null,
   "metadata": {},
   "outputs": [],
   "source": [
    "# comparison operators\n",
    "\n",
    "x = 10\n",
    "y = 3.0\n",
    "z = 5\n",
    "\n",
    "# greater that, less than, greater than equal to and lesser than equal to\n",
    "x > y\n",
    "x >= y\n",
    "x < y\n",
    "x <= y\n",
    "\n",
    "# equals and not equals\n",
    "x == y\n",
    "x != y\n",
    "\n",
    "# Chained Expressions \n",
    "x > y > z \n",
    "(x > y) or (x > z)\n"
   ]
  },
  {
   "cell_type": "markdown",
   "metadata": {},
   "source": [
    " ### 1.5 Strings\n",
    "\n",
    " Strings are sequences of characters, e.g., pieces of text. You can create them by enclosing characters in quotes. Python treats single quotes the same as double quotes.\n",
    "\n",
    "\n",
    "\n",
    " Strings can be concatenated using the `+` operator. You can also multiply strings by integers to repeat them.\n",
    "\n",
    "\n",
    "\n",
    " You may need to escape special characters in strings using a backslash `\\`. For example, to include a quote in a string, you can use `\\'`.\n",
    "\n",
    "\n",
    "\n",
    " You can use the `len()` function to get the length of a string."
   ]
  },
  {
   "cell_type": "code",
   "execution_count": null,
   "metadata": {},
   "outputs": [],
   "source": [
    "# strings are represented using single or double quotes\n",
    "first_name = \"Adam\" \n",
    "last_name = 'Eve'\n",
    "\n",
    "# \\ is used to escape characters\n",
    "middle_name = 'zero\\'s'\n",
    "\n",
    "# string concatenation\n",
    "full_name = first_name +' ' + middle_name + ' ' + last_name\n",
    "\n",
    "print(f\"Full name is {full_name}\")\n",
    "print(f\"Full name is of type {type(full_name)}\")\n",
    "\n",
    "# length of string\n",
    "length = len(full_name)\n",
    "print(f\"Length of full name is {length}\")\n"
   ]
  },
  {
   "cell_type": "markdown",
   "metadata": {},
   "source": [
    " Strings can be indexed and sliced similar to lists and tuples.\n",
    "\n",
    " List indexing is discussed in the list section"
   ]
  },
  {
   "cell_type": "markdown",
   "metadata": {},
   "source": [
    " You can 'multiply' a string by an integer to repeat it."
   ]
  },
  {
   "cell_type": "code",
   "execution_count": null,
   "metadata": {},
   "outputs": [],
   "source": [
    "repeated_string = \"Hello \" * 10\n",
    "\n",
    "print(f\"repeated_string is {repeated_string}\")\n"
   ]
  },
  {
   "cell_type": "markdown",
   "metadata": {},
   "source": [
    " Some characters have special meanings in strings. For example, `\\n` represents a newline character, and `\\t` represents a tab character. You can use `r` before the string to treat it as a raw string, ignoring special characters.\n",
    "\n"
   ]
  },
  {
   "cell_type": "code",
   "execution_count": null,
   "metadata": {},
   "outputs": [],
   "source": [
    "# characters with special meaning\n",
    "# \\n - newline\n",
    "# \\t - tab\n",
    "# \\\\ - backslash\n",
    "# examples\n",
    "print(\"Hello\\nWorld\")\n",
    "print(\"Hello\\tWorld\")\n",
    "print(\"Hello\\\\World\")\n"
   ]
  },
  {
   "cell_type": "markdown",
   "metadata": {},
   "source": [
    " Casting is the process of converting one data type to another. You can cast strings to integers or floats, and vice versa. For example, you can convert a string to an integer using `int(\"5\")`."
   ]
  },
  {
   "cell_type": "code",
   "execution_count": null,
   "metadata": {},
   "outputs": [],
   "source": [
    "# casting str to int  \n",
    "total = int('1') + int('2')\n",
    "print(f\"The value of total is {total} and it is of type {type(total)}\")\n",
    "\n",
    "# casting int to str\n",
    "total = str(1) + str(2)\n",
    "print(f\"The value of total is {total} and it is of type {type(total)}\")\n"
   ]
  },
  {
   "cell_type": "code",
   "execution_count": null,
   "metadata": {},
   "outputs": [],
   "source": [
    "# empty string is considered as False\n",
    "empty_string = ''\n",
    "bool(empty_string)\n"
   ]
  },
  {
   "cell_type": "markdown",
   "metadata": {},
   "source": [
    " To replace a part of a string, you can use the `replace()` method. To split a string into a list of substrings, you can use the `split()` method."
   ]
  },
  {
   "cell_type": "code",
   "execution_count": null,
   "metadata": {},
   "outputs": [],
   "source": [
    "# replace method\n",
    "s = \"Hello, World!\"\n",
    "s = s.replace(\"World\", \"Universe\")\n",
    "print(s)\n"
   ]
  },
  {
   "cell_type": "markdown",
   "metadata": {},
   "source": [
    " Note that the result of the f-string composition is a string."
   ]
  },
  {
   "cell_type": "code",
   "execution_count": null,
   "metadata": {},
   "outputs": [],
   "source": [
    "# f-string composition is a string\n",
    "helloworld = f\"Hello, World!\"\n",
    "full_sentence = f\"This is a full sentence. {helloworld} and it is of type {type(helloworld)}\"\n",
    "print(full_sentence)\n"
   ]
  },
  {
   "cell_type": "markdown",
   "metadata": {},
   "source": [
    " **Q:** Create a sentence about the weather using variables for the temperature and the weather condition.\n",
    " - Print the sentence\n",
    " - Example: \"The temperature is 25 degrees and it is sunny.\"\n",
    " - Then use replace to change the weather condition to \"cloudy\" and print the new sentence."
   ]
  },
  {
   "cell_type": "code",
   "execution_count": null,
   "metadata": {},
   "outputs": [],
   "source": [
    "# TODO: Write your code here\n"
   ]
  },
  {
   "cell_type": "markdown",
   "metadata": {},
   "source": [
    " ### 1.4 Lists and Tuples\n",
    "\n",
    " Lists are collections of items that are ordered and **changeable**. Tuples are collections of items that are ordered and **unchangeable**.\n",
    "\n",
    "\n",
    "\n",
    " They can contain any type of object, even other lists or tuples. They can be used for instance to store a sequence of numbers, strings, or a mix of both."
   ]
  },
  {
   "cell_type": "code",
   "execution_count": null,
   "metadata": {},
   "outputs": [],
   "source": [
    "# Arrays are implemented as lists in python\n",
    "\n",
    "# creating empty list\n",
    "names = []\n",
    "names = list()\n",
    "\n",
    "# list of strings\n",
    "names = ['Zach', 'Jay']\n",
    "print(names)\n",
    "\n",
    "# list of intergers\n",
    "nums = [1, 2, 3, 4, 5]\n",
    "print(nums)\n",
    "\n",
    "# list of different data types\n",
    "l = ['Zach', 1, True, None]\n",
    "print(l)\n",
    "\n",
    "# list of lists\n",
    "ll = [[1, 3], [2, 3], [3, 4]]\n",
    "\n",
    "# finding the length of list\n",
    "length = len(l)\n",
    "print(length)\n"
   ]
  },
  {
   "cell_type": "markdown",
   "metadata": {},
   "source": [
    " You can repeat a list or tuple by multiplying it by an integer."
   ]
  },
  {
   "cell_type": "code",
   "execution_count": null,
   "metadata": {},
   "outputs": [],
   "source": [
    "# You can repeat a list or tuple by multiplying it by an integer.\n",
    "l = [1, 2, 3] * 3\n",
    "print(l)\n",
    "\n",
    "t = (1, 2, 3) * 3\n",
    "print(t)\n"
   ]
  },
  {
   "cell_type": "markdown",
   "metadata": {},
   "source": [
    " You can change the content of a list by assigning new values to its elements. You can also add elements to a list using the `append()` method or extend a list with another list using the `extend()` method."
   ]
  },
  {
   "cell_type": "code",
   "execution_count": null,
   "metadata": {},
   "outputs": [],
   "source": [
    "# Lists are mutable\n",
    "\n",
    "names = names + ['Ravi']\n",
    "names.append('Richard')\n",
    "names.extend(['Abi', 'Kevin'])\n",
    "print(names)\n"
   ]
  },
  {
   "cell_type": "markdown",
   "metadata": {},
   "source": [
    " An element or a subset of a list can be accessed using element's index or slice of indices.\n",
    "\n",
    " The same notation applies for strings but at the character level."
   ]
  },
  {
   "cell_type": "code",
   "execution_count": null,
   "metadata": {},
   "outputs": [],
   "source": [
    "# some_list[index]\n",
    "# some_list[start_index: end_index(not included)]\n",
    "\n",
    "numbers = [0, 1, 2, 3, 4, 5, 6]\n",
    "\n",
    "# indices start from 0 in python\n",
    "print(f'The first element in numbers is {numbers[0]}')\n",
    "print(f'The third element in numbers is {numbers[2]}')\n",
    "\n",
    "print(f'Elements from 1st to 5th index are {numbers[1:6]}')\n",
    "print(f'Elements from start to 5th index are {numbers[:6]}')\n",
    "print(f'Elements from 4th index to end are {numbers[4:]}')\n",
    "\n",
    "print(f'Last Element is {numbers[-1]}')\n",
    "print(f'Last four element are {numbers[-4:]}')\n",
    "\n",
    "# changing 1st element in the numbers list\n",
    "numbers[0] = 100\n",
    "print(numbers)\n",
    "\n",
    "# changing first 3 numbers\n",
    "numbers[0: 3] = [100, 200, 300]\n",
    "print(numbers)\n"
   ]
  },
  {
   "cell_type": "markdown",
   "metadata": {},
   "source": [
    " **Q:** Define a list of four items representing your favorite hobbies/activities.\n",
    " - Print only the second and third items using list slicing."
   ]
  },
  {
   "cell_type": "code",
   "execution_count": 1,
   "metadata": {},
   "outputs": [],
   "source": [
    "# TODO: Write your code here\n"
   ]
  },
  {
   "cell_type": "markdown",
   "metadata": {},
   "source": [
    " On the other hand, tuples are immutable, meaning that you cannot change the content of a tuple once it is created."
   ]
  },
  {
   "cell_type": "code",
   "execution_count": null,
   "metadata": {},
   "outputs": [],
   "source": [
    "# Tuples are immutable lists. They are created using () instead of [].\n",
    "\n",
    "names = tuple()\n",
    "names = ('Zach', 'Jay') \n",
    "print(names[0])\n",
    "\n",
    "# trying to alter the tuple gives an error\n",
    "names[0] = 'Richard'\n",
    "\n",
    "# similar to tuples, strings are also immutable\n"
   ]
  },
  {
   "cell_type": "code",
   "execution_count": null,
   "metadata": {},
   "outputs": [],
   "source": [
    "# empty lists and tuples are considered as False\n",
    "emptyList = []\n",
    "emptyTuple = ()\n",
    "print(f\"emptyList is {bool(emptyList)} and emptyTuple is {bool(emptyTuple)}\")"
   ]
  },
  {
   "cell_type": "markdown",
   "metadata": {},
   "source": [
    " The `split()` method can be used to split a string into a list of substrings. By default, it splits the string by spaces, but you can specify a different separator."
   ]
  },
  {
   "cell_type": "code",
   "execution_count": null,
   "metadata": {},
   "outputs": [],
   "source": [
    "# split method\n",
    "s = \"Hello, World!\"\n",
    "words = s.split()\n",
    "print(words)\n",
    "\n",
    "# split with a different separator\n",
    "s = \"apple,banana,orange\"\n",
    "fruits = s.split(',')\n",
    "print(fruits)\n"
   ]
  },
  {
   "cell_type": "markdown",
   "metadata": {},
   "source": [
    " You can use the `join()` method to concatenate a list of strings into a single string."
   ]
  },
  {
   "cell_type": "code",
   "execution_count": null,
   "metadata": {},
   "outputs": [],
   "source": [
    "# join method\n",
    "words = ['Hello', 'World']\n",
    "s = ' '.join(words)\n",
    "print(s)\n"
   ]
  },
  {
   "cell_type": "markdown",
   "metadata": {},
   "source": [
    " **Q:** See what happens when you try to change the content of a tuple.\n",
    " - Since you cannot change the content of a tuple, you need to create a new tuple with the new content.\n",
    " - Create a new tuple with 3 elements based on the first three elements of the tuple you defined above."
   ]
  },
  {
   "cell_type": "code",
   "execution_count": null,
   "metadata": {},
   "outputs": [],
   "source": [
    "# TODO: Write your code here\n"
   ]
  },
  {
   "cell_type": "markdown",
   "metadata": {},
   "source": [
    " ### 1.5 Dictionary\n",
    "\n",
    " Dictionary is a collection of key-value pairs. It is unordered, changeable and indexed. Dictionaries are written with curly brackets, and have keys and values.\n",
    "\n",
    "\n",
    "\n",
    " They can be used for example to associate a name with a phone number.\n",
    "\n"
   ]
  },
  {
   "cell_type": "code",
   "execution_count": null,
   "metadata": {},
   "outputs": [],
   "source": [
    "# hash maps in python are called Dictionaries\n",
    "# dict{key: value}\n",
    "\n",
    "# Empty dictionary\n",
    "phonebook = dict()\n",
    "\n",
    "# contruction dict using sequences of key-value pairs\n",
    "dict([('sape', 4139), ('guido', 4127), ('jack', 4098)])\n",
    "\n",
    "# Dictionary with one item\n",
    "phonebook = {'jack': 4098}\n",
    "\n",
    "# Add another item\n",
    "phonebook['guido'] = 4127\n",
    "\n",
    "print(phonebook)\n",
    "print(phonebook['jack'])\n",
    "print(phonebook.items())\n",
    "print(phonebook.keys())\n",
    "print(phonebook.values())\n",
    "\n",
    "print('jack' in phonebook)\n",
    "print('Kevin' in phonebook)\n",
    "\n",
    "# Delete an item\n",
    "del phonebook['jack'] \n",
    "print(phonebook)\n"
   ]
  },
  {
   "cell_type": "code",
   "execution_count": null,
   "metadata": {},
   "outputs": [],
   "source": [
    "# An empty dictionary is considered as False\n",
    "emptyDict = {}\n",
    "print(f\"emptyDict is {bool(emptyDict)}\")\n"
   ]
  },
  {
   "cell_type": "markdown",
   "metadata": {},
   "source": [
    " **Q:** Define a dictionary where the keys are the names of the planets and the values are their positions relative to the Sun (like 3 for Earth).\n",
    " - Print the dictionary."
   ]
  },
  {
   "cell_type": "code",
   "execution_count": null,
   "metadata": {},
   "outputs": [],
   "source": [
    "# TODO: Write your code here\n"
   ]
  },
  {
   "cell_type": "markdown",
   "metadata": {},
   "source": [
    " ### 1.6 Sets\n",
    "\n",
    " Sets are unordered collections of unique elements. They are used to store multiple items in a single variable. Sets are written with curly brackets.\n",
    "\n"
   ]
  },
  {
   "cell_type": "code",
   "execution_count": null,
   "metadata": {},
   "outputs": [],
   "source": [
    "# Sets are unordered collection of unique elements\n",
    "# Sets are mutable\n",
    "\n",
    "# Empty set\n",
    "s = set()\n",
    "\n",
    "# set of integers\n",
    "s = {1, 2, 3, 4, 5}\n",
    "print(f\"The set is {s}\")\n",
    "\n",
    "# set of mixed data types\n",
    "s = {1, 2.0, 'three'}\n",
    "print(f\"The set is {s}\")\n",
    "\n",
    "# set of tuples\n",
    "s = {('a', 'b'), ('c', 'd')}\n",
    "print(f\"The set is {s}\")\n",
    "\n",
    "# set operations\n",
    "s1 = {1, 2, 3, 4, 5}\n",
    "s2 = {4, 5, 6, 7, 8}\n",
    "\n",
    "print(f\"s1 is {s1}\")\n",
    "print(f\"s2 is {s2}\")\n",
    "\n",
    "# Union\n",
    "s3 = s1 | s2\n",
    "print(f\"Union of s1 and s2 is {s3}\")\n",
    "\n",
    "# Intersection\n",
    "s3 = s1 & s2\n",
    "print(f\"Intersection of s1 and s2 is {s3}\")\n",
    "\n",
    "# Difference\n",
    "s3 = s1 - s2\n",
    "print(f\"Difference of s1 and s2 is {s3}\")\n",
    "\n",
    "# Symmetric Difference\n",
    "s3 = s1 ^ s2\n",
    "print(f\"Symmetric Difference of s1 and s2 is {s3}\")\n",
    "\n",
    "# Empty set is considered as False\n",
    "emptySet = set()\n",
    "print(f\"emptySet is {bool(emptySet)}\")\n"
   ]
  },
  {
   "cell_type": "markdown",
   "metadata": {},
   "source": [
    " **Q:** Define two sets of strings with some common elements and some unique elements.\n",
    " - Perform the following operations on the sets:\n",
    "    - Union\n",
    "    - Intersection\n",
    "    - Difference\n",
    "\n",
    " - Print the results."
   ]
  },
  {
   "cell_type": "code",
   "execution_count": 21,
   "metadata": {},
   "outputs": [],
   "source": [
    "# TODO: Write your code here"
   ]
  },
  {
   "cell_type": "markdown",
   "metadata": {},
   "source": [
    " ## 2. Flow control statements"
   ]
  },
  {
   "cell_type": "markdown",
   "metadata": {},
   "source": [
    " Flow control statements are used to control the flow of a program. They include `if`, `elif`, and `else` statements, `for` and `while` loops, and `break` and `continue` statements.\n",
    "\n",
    "\n",
    "\n",
    " Differently from other programming languages, Python uses **indentation** to define code blocks. The code block following an `if`, `elif`, `else`, `for`, or `while` statement must be indented.\n",
    "\n",
    "\n",
    "\n",
    " > **IMPORTANT**: The standard indentation is 4 spaces. Always use the same number of spaces for indentation in the same block of code. Avoid using tabs for indentation. Most of the code editors are configured to automatically convert tabs to spaces."
   ]
  },
  {
   "cell_type": "markdown",
   "metadata": {},
   "source": [
    " ### 2.1 if... elif... else...\n",
    "\n",
    " The `if` statement is used to test a condition. If the condition is true, the code block following the `if` statement is executed. The `elif` statement is used to test multiple conditions. If the condition is true, the code block following the `elif` statement is executed. The `else` statement is used to execute a block of code if the condition is false.\n",
    "\n",
    "\n",
    "\n",
    " For instance, this is needed if you want to check if a number is positive, negative, or zero and then decide what to do based on the result."
   ]
  },
  {
   "cell_type": "code",
   "execution_count": null,
   "metadata": {},
   "outputs": [],
   "source": [
    "# if expr1:\n",
    "#     code1\n",
    "# elif expr2:\n",
    "#     code2\n",
    "#   .\n",
    "#   .\n",
    "#   .\n",
    "#   .\n",
    "# else:\n",
    "#     code_n\n",
    "\n",
    "# code1 is executed if expr1 is evaluated to true. Else it moves to expr2 and checks for true \n",
    "# condition and moves to the next if not true. \n",
    "# Finally if all the excpression's are false, code_n is executed\n",
    "\n",
    "x = int(input(\"Please enter an integer: \"))\n",
    "\n",
    "if x < 0:\n",
    "    x = 0\n",
    "    print('Negative changed to zero')\n",
    "elif x == 0:\n",
    "    print('Zero')\n",
    "elif x == 1:\n",
    "    print('Single')\n",
    "else:\n",
    "    print('More')\n"
   ]
  },
  {
   "cell_type": "markdown",
   "metadata": {},
   "source": [
    " **Q:** Prompt the user to input a number and use an if-elif-else statement to check if the number is negative, zero, or positive.\n",
    "  - Print an appropriate message in each case."
   ]
  },
  {
   "cell_type": "code",
   "execution_count": null,
   "metadata": {},
   "outputs": [],
   "source": [
    "# TODO: Write your code here\n"
   ]
  },
  {
   "cell_type": "markdown",
   "metadata": {},
   "source": [
    " If statements can be used in conjunction with comparison operators to create more complex conditions."
   ]
  },
  {
   "cell_type": "code",
   "execution_count": null,
   "metadata": {},
   "outputs": [],
   "source": [
    "x = int(input(\"Please enter an integer: \"))\n",
    "\n",
    "if x > 0 and x < 10:\n",
    "    print(f'x={x} is a positive single digit number')\n",
    "else:\n",
    "    print(f'x={x} is not a positive single digit number')\n"
   ]
  },
  {
   "cell_type": "markdown",
   "metadata": {},
   "source": [
    " ### 2.2 For loops\n",
    "\n",
    " A `for` loop is used for iterating over a sequence (that is either a list, a tuple, a dictionary, a set, or a string).\n",
    "\n",
    "\n",
    "\n",
    " In general, loops are used to repeat a block of code multiple times. The `for` loop iterates over a sequence of elements, such as a list or a tuple. The `for` loop can also iterate over a string, which is a sequence of characters."
   ]
  },
  {
   "cell_type": "code",
   "execution_count": null,
   "metadata": {},
   "outputs": [],
   "source": [
    "# for loop is used to iter over any iterable object\n",
    "\n",
    "# iterating over list\n",
    "for name in ['Steve', 'Jill', 'Venus']:\n",
    "    print(name)\n"
   ]
  },
  {
   "cell_type": "markdown",
   "metadata": {},
   "source": [
    " You can iterate over every character in a string."
   ]
  },
  {
   "cell_type": "code",
   "execution_count": null,
   "metadata": {},
   "outputs": [],
   "source": [
    "# iterating over string\n",
    "for char in \"Hellooooo\":\n",
    "    print(char)\n"
   ]
  },
  {
   "cell_type": "markdown",
   "metadata": {},
   "source": [
    " To iterate over dictionary keys and values, you can use the `items()` method. The for loop can deal with multiple variables."
   ]
  },
  {
   "cell_type": "code",
   "execution_count": null,
   "metadata": {},
   "outputs": [],
   "source": [
    "# iterating over dict keys\n",
    "phone_nos = {\"Henry\": 6091237458,\n",
    "             \"James\": 1234556789, \n",
    "             \"Larry\": 5698327549, \n",
    "             \"Rocky\": 8593876589}\n",
    "\n",
    "for name, no in phone_nos.items(): # items() returns a list of tuples\n",
    "    print(f\"{name}: {no}\")\n",
    "\n"
   ]
  },
  {
   "cell_type": "markdown",
   "metadata": {},
   "source": [
    " To iterate over a sequence of numbers we use `range()` function.\n",
    "\n",
    " The `range()` function generates a sequence of numbers. It can take one, two, or three parameters. For example, `range(5)` generates a sequence of numbers from 0 to 4."
   ]
  },
  {
   "cell_type": "code",
   "execution_count": null,
   "metadata": {},
   "outputs": [],
   "source": [
    "for i in range(5):\n",
    "    print(i)\n"
   ]
  },
  {
   "cell_type": "markdown",
   "metadata": {},
   "source": [
    " However, if you want to iterate over a sequence of numbers with a different starting point, you can use `range(start, stop, step)`. For example, `range(2, 10, 2)` generates a sequence of numbers from 2 to 20 with a step of 2:"
   ]
  },
  {
   "cell_type": "code",
   "execution_count": null,
   "metadata": {},
   "outputs": [],
   "source": [
    "\n",
    "for i in range(2, 20, 2):\n",
    "    print(i)\n"
   ]
  },
  {
   "cell_type": "markdown",
   "metadata": {},
   "source": [
    " You can use the len() function to get the length of a list or a string and use it in the range() function."
   ]
  },
  {
   "cell_type": "code",
   "execution_count": null,
   "metadata": {},
   "outputs": [],
   "source": [
    "# using len of list/tuple in range\n",
    "names = ['Steve', 'Rock', 'Harry']\n",
    "for i in range(len(names)):\n",
    "    print(names[i])\n"
   ]
  },
  {
   "cell_type": "markdown",
   "metadata": {},
   "source": [
    " Alternatively, if you want to have both the element in a sequences as well as an index, you can use the `enumerate()` function."
   ]
  },
  {
   "cell_type": "code",
   "execution_count": null,
   "metadata": {},
   "outputs": [],
   "source": [
    "# using len of list/tuple in range\n",
    "names = ['Steve', 'Rock', 'Harry']\n",
    "for i in range(len(names)):\n",
    "    print(f\"{i}: {names[i]}\")\n"
   ]
  },
  {
   "cell_type": "markdown",
   "metadata": {},
   "source": [
    " **Q:** Using a for loop, print the square of each number in range(1, 6)."
   ]
  },
  {
   "cell_type": "code",
   "execution_count": null,
   "metadata": {},
   "outputs": [],
   "source": [
    "# TODO: Write your code here\n"
   ]
  },
  {
   "cell_type": "markdown",
   "metadata": {},
   "source": [
    " #### 2.3 While Loop\n",
    "\n",
    " With the `while` loop we can execute a set of statements as long as a condition is true."
   ]
  },
  {
   "cell_type": "code",
   "execution_count": null,
   "metadata": {},
   "outputs": [],
   "source": [
    "# While loop executes as long as the condition remains true.\n",
    "# while cond1:\n",
    "#     pass\n",
    "\n",
    "i = 0\n",
    "while i < 10:\n",
    "    print(i)\n",
    "    i += 1\n"
   ]
  },
  {
   "cell_type": "markdown",
   "metadata": {},
   "source": [
    " Forever loop: The below code runs for ever (don't run it)"
   ]
  },
  {
   "cell_type": "code",
   "execution_count": null,
   "metadata": {},
   "outputs": [],
   "source": [
    "# while True:\n",
    "#     print('Forever...')\n"
   ]
  },
  {
   "cell_type": "markdown",
   "metadata": {},
   "source": [
    " #### 2.4 Break, Continue and Pass statements\n",
    "\n",
    " `break` statement is used to exit a loop when a condition is met. `continue` statement is used to skip the current block and return to the `for` or `while` statement. `pass` statement is used as a placeholder for future code."
   ]
  },
  {
   "cell_type": "code",
   "execution_count": null,
   "metadata": {},
   "outputs": [],
   "source": [
    "# break statement breaks out of the the loop\n",
    "while True:\n",
    "    print('We’re stuck in a loop...')\n",
    "    break # Break out of the while loop\n",
    "print(\"not!\")\n"
   ]
  },
  {
   "cell_type": "markdown",
   "metadata": {},
   "source": [
    " You can skip the current iteration without exiting the loop by using the `continue` statement."
   ]
  },
  {
   "cell_type": "code",
   "execution_count": null,
   "metadata": {},
   "outputs": [],
   "source": [
    "# continue statement skips a loop\n",
    "for i in range(5):\n",
    "    continue \n",
    "    print(i)\n"
   ]
  },
  {
   "cell_type": "markdown",
   "metadata": {},
   "source": [
    " This is more usefult when you have a condition to skip the current iteration but you don't want to exit the loop. For instance, you can skip the iteration if the number is even."
   ]
  },
  {
   "cell_type": "code",
   "execution_count": null,
   "metadata": {},
   "outputs": [],
   "source": [
    "for i in range(10):\n",
    "    if i % 2 == 0: # Calculate the remainder of i divided by 2 and check if it is 0\n",
    "        continue\n",
    "    print(i)\n"
   ]
  },
  {
   "cell_type": "markdown",
   "metadata": {},
   "source": [
    " The `pass` statement is used as a placeholder for future code. When the `pass` statement is executed, nothing happens, but you avoid getting an error. It allows you to write minimal code structure without causing issues during execution, which is helpful in situations where code needs to be developed incrementally."
   ]
  },
  {
   "cell_type": "code",
   "execution_count": null,
   "metadata": {},
   "outputs": [],
   "source": [
    "for i in range(10):\n",
    "    pass\n"
   ]
  },
  {
   "cell_type": "markdown",
   "metadata": {},
   "source": [
    " **Q:** Ask the user for an input, print that input, and then print the input in reverse.\n",
    " - Use a while loop to repeat this process until the user inputs 'quit'."
   ]
  },
  {
   "cell_type": "code",
   "execution_count": null,
   "metadata": {},
   "outputs": [],
   "source": [
    "# TODO: Write your code here\n"
   ]
  },
  {
   "cell_type": "markdown",
   "metadata": {},
   "source": [
    " ## 3. Importing Modules\n",
    "\n",
    " Python has a lot of built-in modules that you can use. You can import these modules using the `import` statement.\n",
    "\n",
    " The same command can be used to import installed packages."
   ]
  },
  {
   "cell_type": "code",
   "execution_count": null,
   "metadata": {},
   "outputs": [],
   "source": [
    "# importing modules using import statement\n",
    "import math\n",
    "\n",
    "# Import under an alias (avoid this pattern except with the most \n",
    "# common modules like pandas, numpy, etc.)\n",
    "import math as m\n",
    "\n",
    "# Access components with pkg.fn\n",
    "m.pow(2, 3) \n",
    "\n",
    "# Import specific submodules/functions (not usually recommended \n",
    "# because it can be confusing to know where a function comes from)\n",
    "from math import pow\n",
    "pow(2, 3)\n"
   ]
  },
  {
   "cell_type": "markdown",
   "metadata": {},
   "source": [
    " **Q:** After importing the math module, can you import the random module and generate five random floating-point numbers between 0 and 1?\n",
    " - Tip: use random.random() in a for loop\n",
    "\n"
   ]
  },
  {
   "cell_type": "code",
   "execution_count": null,
   "metadata": {},
   "outputs": [],
   "source": [
    "# TODO: Write your code here\n"
   ]
  },
  {
   "cell_type": "markdown",
   "metadata": {},
   "source": [
    " ## 4. Defining Functions\n",
    "\n",
    " A function is a block of code that only runs when it is called. You can pass data, known as parameters, into a function. A function can return data as a result."
   ]
  },
  {
   "cell_type": "code",
   "execution_count": null,
   "metadata": {},
   "outputs": [],
   "source": [
    "# Functions in python are defined using key word \"def\"\n",
    "\n",
    "# simple function to print greetings `greet_word` is an optional argument with default value 'Hello'\n",
    "def greet(name, greet_word='Hello'):\n",
    "    print(f\"{greet_word} {name}. How are you doing?\")\n",
    "\n",
    "# here greet has 'Hello' as default argument for greet_word\n",
    "print(greet('James'))\n",
    "print(greet(\"Steven\", greet_word=\"Howdy\"))\n",
    "\n",
    "# Observe that the function by default returns None\n"
   ]
  },
  {
   "cell_type": "markdown",
   "metadata": {},
   "source": [
    " To return a value from a function, you can use the `return` statement."
   ]
  },
  {
   "cell_type": "code",
   "execution_count": null,
   "metadata": {},
   "outputs": [],
   "source": [
    "# To return a value from a function, you can use the `return` statement.\n",
    "def multiply_and_subtract_one(x, y):\n",
    "    return x * y - 1\n",
    "\n",
    "print(multiply_and_subtract_one(2, 3))\n"
   ]
  },
  {
   "cell_type": "markdown",
   "metadata": {},
   "source": [
    " **Q:** Define a function called \"divide_by_two\" that takes a single parameter and returns half its value. Then test it with both integer and float inputs.\n",
    "\n"
   ]
  },
  {
   "cell_type": "code",
   "execution_count": null,
   "metadata": {},
   "outputs": [],
   "source": [
    "# TODO: Write your code here\n"
   ]
  },
  {
   "cell_type": "markdown",
   "metadata": {},
   "source": [
    " Python supports recursive functions. A recursive function is a function that calls itself."
   ]
  },
  {
   "cell_type": "code",
   "execution_count": null,
   "metadata": {},
   "outputs": [],
   "source": [
    "# Function to print nth fibonacci number\n",
    "def fib(n):\n",
    "    if n <= 1:\n",
    "        return 1\n",
    "    else:\n",
    "        return fib(n-1)+fib(n-2)\n",
    "n = 10\n",
    "print(f\"{n}th fibonacci number is {fib(n)}\")\n"
   ]
  },
  {
   "cell_type": "markdown",
   "metadata": {},
   "source": [
    " ## 5.File I/O\n",
    "\n",
    " Python has functions for file handling and manipulation. The key function to work with files in Python is the `open()` function. The open() function takes two parameters; filename, and mode. The mode parameter specifies whether you want to read, write, or append to the file. Common modes are 'r' for reading, 'w' for writing (which overwrites the file), and 'a' for appending.\n",
    "\n",
    " You can also define the format of the file by adding 't' for text or 'b' for binary."
   ]
  },
  {
   "cell_type": "code",
   "execution_count": null,
   "metadata": {},
   "outputs": [],
   "source": [
    "# Writing to a text file\n",
    "with open(\"example.txt\", \"wt\") as f:\n",
    "    f.write(\"This is an example.\\n\")\n",
    "    f.write(\"This is another example in another line.\\n\")\n",
    "\n"
   ]
  },
  {
   "cell_type": "markdown",
   "metadata": {},
   "source": [
    " You can load the content of a file using the `read()` method. You can also iterate over the lines of a file using a `for` loop. This will progressively load the file line by line."
   ]
  },
  {
   "cell_type": "code",
   "execution_count": null,
   "metadata": {},
   "outputs": [],
   "source": [
    "# Reading from a text file\n",
    "with open(\"example.txt\", \"rt\") as f:\n",
    "    content = f.read()\n",
    "    print(content)\n",
    "\n",
    "# Read line by line\n",
    "with open(\"example.txt\", \"rt\") as f:\n",
    "    for line in f:\n",
    "        print(line)\n",
    "\n"
   ]
  },
  {
   "cell_type": "markdown",
   "metadata": {},
   "source": [
    " Note that the last print resulted into 2 line breaks because the `print()` function adds a newline character at the end of the line that already contains a newline character."
   ]
  },
  {
   "cell_type": "code",
   "execution_count": null,
   "metadata": {},
   "outputs": [],
   "source": [
    "# Note that the last print resulted into 2 line breaks because the `print()` function adds a newline character at the end of the line that already contains a newline character.\n",
    "\n",
    "# You can strip the newline character by using the `strip()` method of the string object.\n",
    "with open(\"example.txt\", \"rt\") as f:\n",
    "    for line in f:\n",
    "        print(line.strip())\n",
    "\n"
   ]
  },
  {
   "cell_type": "markdown",
   "metadata": {},
   "source": [
    " Append a file: You can append to a file by opening it in append mode. When you open a file in append mode, new data is written to the end of the file."
   ]
  },
  {
   "cell_type": "code",
   "execution_count": null,
   "metadata": {},
   "outputs": [],
   "source": [
    "with open(\"example.txt\", \"at\") as f:\n",
    "    f.write(\"This is an appended line.\\n\")\n",
    "\n",
    "with open(\"example.txt\", \"rt\") as f:\n",
    "    content = f.read()\n",
    "    print(content)\n"
   ]
  },
  {
   "cell_type": "markdown",
   "metadata": {},
   "source": [
    " **Q:** Append user input to a file named \"user_input.txt\" and then read it again to verify the content was appended.\n",
    "   - Use the `with open(..., 'at')` approach.\n",
    "   - Then open the file again in read mode and print its contents.\n",
    "\n"
   ]
  },
  {
   "cell_type": "code",
   "execution_count": null,
   "metadata": {},
   "outputs": [],
   "source": [
    "# TODO: Write your code here\n"
   ]
  },
  {
   "cell_type": "markdown",
   "metadata": {},
   "source": [
    " ## 6 Loading Data\n",
    "\n",
    " ### 6.1 Dealing with json files in Python\n",
    "\n",
    " JSON (JavaScript Object Notation) is a lightweight data-interchange format. It is easy for humans to read and write. It is easy for machines to parse and generate.\n",
    "\n",
    "\n",
    "\n",
    " An example of a JSON file:\n",
    "\n",
    " ```json\n",
    " {\n",
    "   \"name\": \"John\",\n",
    "   \"age\": 30,\n",
    "   \"city\": \"New York\"\n",
    "   \"children\": [\n",
    "     {\n",
    "       \"name\": \"Anna\",\n",
    "       \"age\": 5\n",
    "     },\n",
    "     {\n",
    "       \"name\": \"Betty\",\n",
    "       \"age\": 7\n",
    "     }\n",
    "   ]\n",
    " }\n",
    " ```"
   ]
  },
  {
   "cell_type": "code",
   "execution_count": null,
   "metadata": {},
   "outputs": [],
   "source": [
    "# creating a json file\n",
    "import json\n",
    "data = {\n",
    "    \"name\": \"John\",\n",
    "    \"age\": 30,\n",
    "    \"city\": \"New York\"\n",
    "}\n",
    "with open(\"data.json\", \"wt\") as f:\n",
    "    json.dump(data, f)\n",
    "\n",
    "# reading from a json file\n",
    "with open(\"data.json\", \"rt\") as f:\n",
    "    data = json.load(f)\n",
    "    print(data)\n"
   ]
  },
  {
   "cell_type": "markdown",
   "metadata": {},
   "source": [
    " ### 6.2 Dealing with csv files in Python\n",
    "\n",
    " CSV (Comma Separated Values) is a simple file format used to store tabular data, such as a spreadsheet or database. A CSV file stores tabular data (numbers and text) in plain text.\n",
    "\n",
    "\n",
    "\n",
    " >NOTE THAT PANDAS IS A BETTER OPTION FOR DEALING WITH CSV FILES. WE WILL DISCUSS PANDAS IN THE NEXT SECTION."
   ]
  },
  {
   "cell_type": "code",
   "execution_count": null,
   "metadata": {},
   "outputs": [],
   "source": [
    "# creating a csv file\n",
    "import csv\n",
    "with open(\"example.csv\", \"w\") as f:\n",
    "    writer = csv.writer(f)\n",
    "    writer.writerow([\"Name\", \"City\"])\n",
    "    writer.writerow([\"John\", \"New York\"])\n",
    "    writer.writerow([\"Peter\", \"Los Angeles\"])\n",
    "\n",
    "# reading from a csv file\n",
    "with open(\"example.csv\", \"r\") as f:\n",
    "    reader = csv.reader(f)\n",
    "    for row in reader:\n",
    "        print(row)\n",
    "\n",
    "\n"
   ]
  },
  {
   "cell_type": "markdown",
   "metadata": {},
   "source": [
    " ## 7. List Comprehensions (Advanced)\n",
    "\n",
    " List comprehensions provide a concise way to create lists. Common applications are to make new lists where each element is the result of some operation applied to each member of another sequence or iterable, or to create a subsequence of those elements that satisfy a certain condition."
   ]
  },
  {
   "cell_type": "code",
   "execution_count": null,
   "metadata": {},
   "outputs": [],
   "source": [
    "# List comprehension is a concise way to create lists\n",
    "# [expr for var in iterable]\n",
    "\n",
    "result = [x**2 for x in range(10)]\n",
    "print(f\"x squared is {result}\")\n",
    "\n"
   ]
  },
  {
   "cell_type": "markdown",
   "metadata": {},
   "source": [
    " You can add a condition to the list comprehension to filter the elements. For example, you can create a list of even numbers from 0 to 9."
   ]
  },
  {
   "cell_type": "code",
   "execution_count": null,
   "metadata": {},
   "outputs": [],
   "source": [
    "\n",
    "# List comprehension with condition\n",
    "result = [x**2 for x in range(10) if x % 2 == 0]\n",
    "print(f\"x squared when x is even is {result}\")\n"
   ]
  },
  {
   "cell_type": "markdown",
   "metadata": {},
   "source": [
    " **Q:** Use a list comprehension to generate the cubes of numbers from 1 to 7.\n",
    " - Then filter out cubes that are divisible by 3 and print the result.\n",
    "\n"
   ]
  },
  {
   "cell_type": "code",
   "execution_count": null,
   "metadata": {},
   "outputs": [],
   "source": [
    "# TODO: Write your code here\n"
   ]
  },
  {
   "cell_type": "markdown",
   "metadata": {},
   "source": [
    " You can have complex nested loops in list comprehensions. For example, you can create a list of tuples by combining elements from two lists."
   ]
  },
  {
   "cell_type": "code",
   "execution_count": null,
   "metadata": {},
   "outputs": [],
   "source": [
    "\n",
    "# List comprehension with nested loops\n",
    "result = [(x, y) for x in range(3) for y in range(3)]\n",
    "print(f\"Cartesian product of [0, 1, 2] is {result}\")\n",
    "\n"
   ]
  },
  {
   "cell_type": "markdown",
   "metadata": {},
   "source": [
    " You can combine nested loops with conditions."
   ]
  },
  {
   "cell_type": "code",
   "execution_count": null,
   "metadata": {},
   "outputs": [],
   "source": [
    "\n",
    "# List comprehension with nested loops and condition\n",
    "result = [(x, y) for x in range(3) for y in range(3) if x != y]\n",
    "print(f\"Cartesian product of [0, 1, 2] without diagonal is {result}\")\n"
   ]
  },
  {
   "cell_type": "markdown",
   "metadata": {},
   "source": [
    " Nested loops can be useful to flatten a list of lists. For example, you can flatten a list of lists into a single list."
   ]
  },
  {
   "cell_type": "code",
   "execution_count": null,
   "metadata": {},
   "outputs": [],
   "source": [
    "list_of_lists = [[1, 2], [3, 4], [5, 6]]\n",
    "\n",
    "result = [item for sublist in list_of_lists for item in sublist]\n",
    "print(f\"Flattened list is {result}\")\n"
   ]
  },
  {
   "cell_type": "markdown",
   "metadata": {},
   "source": [
    " ## 8. Lambda Functions (Advanced)\n",
    "\n",
    " Lambda functions are small anonymous functions. They can have any number of arguments but only one expression. They are defined using the `lambda` keyword."
   ]
  },
  {
   "cell_type": "code",
   "execution_count": null,
   "metadata": {},
   "outputs": [],
   "source": [
    "# Lambda functions are anonymous functions\n",
    "# lambda arguments: expression\n",
    "f = lambda x: x**2\n",
    "print(f\"Square of 10 is {f(10)}\")\n",
    "\n"
   ]
  },
  {
   "cell_type": "markdown",
   "metadata": {},
   "source": [
    " Lambda functions are used with map, filter and reduce functions.\n",
    "\n",
    "\n",
    "\n",
    " The `map()` function takes in a function and a list. The function is applied to every item in the list. It returns a list of the results."
   ]
  },
  {
   "cell_type": "code",
   "execution_count": null,
   "metadata": {},
   "outputs": [],
   "source": [
    "\n",
    "# map applies a function to all the items in an input list\n",
    "# map(function, iterable)\n",
    "result = list(map(lambda x: x**2, range(10)))\n",
    "print(f\"Square of 0 to 9 is {result}\")\n",
    "\n"
   ]
  },
  {
   "cell_type": "markdown",
   "metadata": {},
   "source": [
    " The `filter()` function takes in a function and a list. The function is applied to every item in the list. It returns a list of items for which the function returns True."
   ]
  },
  {
   "cell_type": "code",
   "execution_count": null,
   "metadata": {},
   "outputs": [],
   "source": [
    "\n",
    "# filter creates a list of elements for which a function returns true\n",
    "# filter(function, iterable)\n",
    "result = list(filter(lambda x: x % 2 == 0, range(10)))\n",
    "print(f\"Even numbers in 0 to 9 are {result}\")\n",
    "\n"
   ]
  },
  {
   "cell_type": "markdown",
   "metadata": {},
   "source": [
    " The `reduce()` function is defined in the `functools` module. It applies a rolling computation to sequential pairs of values in a list. For example, you can use the `reduce()` function to calculate the sum of a list of numbers.\n",
    "\n"
   ]
  },
  {
   "cell_type": "code",
   "execution_count": null,
   "metadata": {},
   "outputs": [],
   "source": [
    "\n",
    "# reduce applies a rolling computation to sequential pairs of values in a list\n",
    "# reduce(function, iterable)\n",
    "from functools import reduce\n",
    "result = reduce(lambda x, y: x + y, range(10))\n",
    "\n",
    "# The above code is equivalent to sum(range(10))\n",
    "print(f\"Sum of 0 to 9 is {result}\")\n",
    "\n"
   ]
  },
  {
   "cell_type": "markdown",
   "metadata": {},
   "source": [
    " Lambda functions have other uses as well, such as in sorting and in defining functions that take functions as arguments."
   ]
  },
  {
   "cell_type": "code",
   "execution_count": null,
   "metadata": {},
   "outputs": [],
   "source": [
    "pairs = [(1, 'one'), (2, 'two'), (3, 'three'), (4, 'four')]\n",
    "pairs.sort(key=lambda pair: pair[1])\n",
    "print(f\"Sorted pairs based on second element is {pairs}\")\n"
   ]
  },
  {
   "cell_type": "markdown",
   "metadata": {},
   "source": [
    " ## 9. Installing Packages\n",
    "\n",
    " There are many packages available for Python. Most of them are available on the Python Package Index (PyPI). You can install packages using the `pip` command. For example, to install the `numpy` package, you can use the command `!pip install numpy` (on collab).\n",
    "\n",
    "\n",
    "\n",
    " Check out the [PyPI website](https://pypi.org/) for more information on available packages.\n",
    "\n",
    "\n",
    "\n",
    " Some advanced packages can only be installed via conda. For example, to install the `numpy` package, you can use the command `!conda install <package_name>`. Refer to the [conda documentation](https://docs.conda.io/projects/conda/en/latest/user-guide/tasks/manage-pkgs.html) for more information.\n",
    "\n",
    "\n",
    "\n"
   ]
  },
  {
   "cell_type": "markdown",
   "metadata": {},
   "source": [
    " If you are on colab, you can install extra packages using\n",
    "\n"
   ]
  },
  {
   "cell_type": "code",
   "execution_count": null,
   "metadata": {},
   "outputs": [],
   "source": [
    "!pip install package_name\n"
   ]
  },
  {
   "cell_type": "markdown",
   "metadata": {},
   "source": [
    " If you are on jupyter notebook, you can install extra packages using:\n",
    "\n"
   ]
  },
  {
   "cell_type": "code",
   "execution_count": null,
   "metadata": {},
   "outputs": [],
   "source": [
    "pip install package_name\n"
   ]
  },
  {
   "cell_type": "markdown",
   "metadata": {},
   "source": [
    " ## 10. References to other advanced topics\n",
    "\n",
    " Python has a lot of advanced topics that you can learn. For instance it is possible to create classes and objects, use decorators, context managers, and more. These topics are not covered in this course but you can find more information in the Python documentation or in other tutorials.\n",
    "\n",
    "\n",
    "\n",
    "  - [Python Documentation](https://docs.python.org/3/)\n",
    "\n",
    "  - [Python Tutorial](https://docs.python.org/3/tutorial/index.html)\n",
    "\n",
    "  - [Python Library Reference](https://docs.python.org/3/library/index.html)\n",
    "\n",
    "  - [YYiki Python](https://yyiki.org/wiki/Python/)\n",
    "\n",
    "  - [Real Python](https://realpython.com/)"
   ]
  },
  {
   "cell_type": "markdown",
   "metadata": {},
   "source": [
    " ## Extra questions\n",
    "\n",
    "\n",
    "\n",
    " For each of the following question, first think about the result without running the code. Then test it by running the code. Reach out if you don't understand why!"
   ]
  },
  {
   "cell_type": "markdown",
   "metadata": {},
   "source": [
    " ### What's the output?\n",
    "\n",
    " ```python\n",
    " def func(a):\n",
    "     a = a + 2\n",
    "     a = a * 2\n",
    "     return a\n",
    "\n",
    " print(func(2))\n",
    " ```"
   ]
  },
  {
   "cell_type": "code",
   "execution_count": null,
   "metadata": {},
   "outputs": [],
   "source": [
    "# TRY IT OUT\n"
   ]
  },
  {
   "cell_type": "markdown",
   "metadata": {},
   "source": [
    " ### True? False? Why?\n",
    "\n",
    "\n",
    "\n",
    " ```python\n",
    " 0.1 + 0.2 == 0.3\n",
    " ```"
   ]
  },
  {
   "cell_type": "code",
   "execution_count": null,
   "metadata": {},
   "outputs": [],
   "source": [
    "# YOUR SOLUTION HERE\n"
   ]
  },
  {
   "cell_type": "markdown",
   "metadata": {},
   "source": [
    " ### 3. What is `list_1` and `list_2` and why?\n",
    "\n",
    "\n",
    "\n",
    "\n",
    "\n",
    " ```python\n",
    " list_1 = [1,2,3]\n",
    " list_2 = list_1\n",
    " list_1.append(4)\n",
    " list_2 += [5]\n",
    " list_2 = list_2 + [10]\n",
    " ```\n",
    "\n"
   ]
  },
  {
   "cell_type": "code",
   "execution_count": null,
   "metadata": {},
   "outputs": [],
   "source": [
    "# YOUR SOLUTION HERE\n"
   ]
  },
  {
   "cell_type": "markdown",
   "metadata": {},
   "source": [
    " ### What's the output?\n",
    "\n",
    "\n",
    "\n",
    " ```python\n",
    " l = [i**2 for i in range(10)]\n",
    " l[-4:2:-3]\n",
    " ```\n",
    "\n"
   ]
  },
  {
   "cell_type": "code",
   "execution_count": null,
   "metadata": {},
   "outputs": [],
   "source": [
    "# YOUR SOLUTION HERE\n"
   ]
  },
  {
   "cell_type": "markdown",
   "metadata": {},
   "source": [
    " ### What does the code do? If the ordering doesn't matter, how can it be simplified?\n",
    "\n",
    "\n",
    "\n",
    " ```python\n",
    " def func1(lst):\n",
    "     a = []\n",
    "     for i in lst:\n",
    "         if i not in a:\n",
    "             a.append(i)\n",
    "     return a\n",
    " ```\n",
    "\n"
   ]
  },
  {
   "cell_type": "code",
   "execution_count": null,
   "metadata": {},
   "outputs": [],
   "source": [
    "# YOUR SOLUTION HERE\n"
   ]
  },
  {
   "cell_type": "markdown",
   "metadata": {},
   "source": [
    " ### What would be the output?\n",
    "\n",
    "\n",
    "\n",
    " ```python\n",
    " val = [0, 10, 15, 20]\n",
    " data = 15\n",
    " try:\n",
    "     data = data/val[0]\n",
    " except ZeroDivisionError:\n",
    "     print(\"zero division error - 1\")\n",
    " except:\n",
    "     print(\"zero division error - 2\")\n",
    " finally:\n",
    "     print(\"zero division error - 3\")\n",
    "\n",
    " val = [0, 10, 15, 20]\n",
    " data = 15\n",
    "\n",
    " try:\n",
    "     data = data/val[4]\n",
    " except ZeroDivisionError:\n",
    "     print(\"zero division error - 1\")\n",
    " except:\n",
    "     print(\"zero division error - 2\")\n",
    " finally:\n",
    "     print(\"zero division error - 3\")\n",
    "\n",
    " ```\n",
    "\n"
   ]
  },
  {
   "cell_type": "code",
   "execution_count": null,
   "metadata": {},
   "outputs": [],
   "source": [
    "# YOUR SOLUTION HERE\n"
   ]
  },
  {
   "cell_type": "markdown",
   "metadata": {},
   "source": [
    " ### What does the code do?\n",
    "\n",
    "\n",
    "\n",
    " ```python\n",
    "\n",
    " def func(s):\n",
    "     d = {}\n",
    "     for c in s:\n",
    "         if c in d:\n",
    "             d[n] += 1\n",
    "         else:\n",
    "             d[n] = 1\n",
    "     return d\n",
    " ```\n",
    "\n",
    "\n",
    "\n",
    " (Btw, the same operation can be done by simply running `Counter(s)` by using `Counter` data structure in the `collections` module.)"
   ]
  },
  {
   "cell_type": "code",
   "execution_count": null,
   "metadata": {},
   "outputs": [],
   "source": [
    "# YOUR SOLUTION HERE\n"
   ]
  },
  {
   "cell_type": "markdown",
   "metadata": {},
   "source": [
    " ### What's the output?\n",
    "\n",
    "\n",
    "\n",
    " ```python\n",
    " def func(l):\n",
    "     l.append(10)\n",
    "     return l\n",
    "\n",
    " a = [1,2,3]\n",
    " b = func(a)\n",
    " a == b\n",
    " ```"
   ]
  },
  {
   "cell_type": "code",
   "execution_count": null,
   "metadata": {},
   "outputs": [],
   "source": [
    "# YOUR SOLUTION HERE\n"
   ]
  },
  {
   "cell_type": "markdown",
   "metadata": {},
   "source": [
    " ### What's happening to `a` in each step? Why?\n",
    "\n",
    " ```python\n",
    " # step 1\n",
    " a = [ [ ] ] * 5\n",
    " # step 2\n",
    " a[0].append(10)\n",
    " # step 3\n",
    " a[1].append(20)\n",
    " # step 4\n",
    " a.append(30)\n",
    " \n",
    " ```"
   ]
  },
  {
   "cell_type": "code",
   "execution_count": null,
   "metadata": {},
   "outputs": [],
   "source": [
    "# YOUR SOLUTION HERE\n"
   ]
  },
  {
   "cell_type": "markdown",
   "metadata": {},
   "source": [
    " ### What's the output?\n",
    "\n",
    "\n",
    "\n",
    " ```python\n",
    " L = list('abcdefghijk')\n",
    " L[1] = L[4] = 'x'\n",
    " L[3] = L[-3]\n",
    " print(L)\n",
    " ```\n",
    "\n"
   ]
  },
  {
   "cell_type": "code",
   "execution_count": null,
   "metadata": {},
   "outputs": [],
   "source": [
    "# YOUR SOLUTION HERE\n"
   ]
  },
  {
   "cell_type": "markdown",
   "metadata": {},
   "source": [
    " ### What's the output?\n",
    "\n",
    " ```python\n",
    " y = 8\n",
    " z = lambda x : x * y\n",
    " print(z(6))\n",
    " ```\n",
    "\n"
   ]
  },
  {
   "cell_type": "code",
   "execution_count": null,
   "metadata": {},
   "outputs": [],
   "source": [
    "# YOUR SOLUTION HERE\n"
   ]
  },
  {
   "cell_type": "markdown",
   "metadata": {},
   "source": [
    " ### What's the output?\n",
    "\n",
    "\n",
    "\n",
    " ```python\n",
    " count = 1\n",
    "\n",
    " def func(count):\n",
    "     for i in (1, 2, 3):\n",
    "         count += 1\n",
    " func(count = 10)\n",
    " count += 5\n",
    " print(count)\n",
    " ```\n",
    "\n"
   ]
  },
  {
   "cell_type": "code",
   "execution_count": null,
   "metadata": {},
   "outputs": [],
   "source": [
    "# YOUR SOLUTION HERE\n",
    "\n",
    "\n"
   ]
  }
 ],
 "metadata": {
  "kernelspec": {
   "display_name": "networks",
   "language": "python",
   "name": "python3"
  },
  "language_info": {
   "codemirror_mode": {
    "name": "ipython",
    "version": 3
   },
   "file_extension": ".py",
   "mimetype": "text/x-python",
   "name": "python",
   "nbconvert_exporter": "python",
   "pygments_lexer": "ipython3",
   "version": "3.8.13"
  }
 },
 "nbformat": 4,
 "nbformat_minor": 2
}
