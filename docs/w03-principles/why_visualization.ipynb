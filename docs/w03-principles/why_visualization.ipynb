{
 "cells": [
  {
   "cell_type": "markdown",
   "metadata": {
    "id": "9p-FFN_yNDlH"
   },
   "source": [
    "# Why Visualization?\n",
    "In the class, we explored the Anscombe's Quartet. This dataset is composed of four different datasets that have the same statistical properties. However, when we visualize the data, we can see that they are quite different.\n",
    "Illustrate this concept by yourself using the Anscombe's Quartet dataset.\n",
    "\n",
    "In addition to the Anscombe's dataset and without giving too much away, let's also explore a very particular dataset for a simple statistics exercise.\n",
    "\n",
    "This notebook can be submitted together with assignment 3 for bonus points.\n",
    "\n",
    "Save it as a HTML or PDF file and submit it on the assignment page on Canvas."
   ]
  },
  {
   "cell_type": "markdown",
   "metadata": {},
   "source": [
    "## Anscombe's Quartet dataset"
   ]
  },
  {
   "cell_type": "code",
   "execution_count": null,
   "metadata": {},
   "outputs": [],
   "source": [
    "import pandas as pd\n",
    "import numpy as np\n",
    "\n",
    "# Load the dataset\n",
    "data = pd.read_csv('../../Datasets/Anscombe_quartet_data.csv')\n",
    "# The ../../ are needed to go back two levels in the directory structure.\n",
    "# Note that the path is relative to the location of the notebook file."
   ]
  },
  {
   "cell_type": "markdown",
   "metadata": {},
   "source": [
    "Explore the dataset and calculate the mean and standard deviation for each dataset."
   ]
  },
  {
   "cell_type": "code",
   "execution_count": null,
   "metadata": {
    "id": "2z4vxHkNOKvz"
   },
   "outputs": [],
   "source": [
    "# Explore here"
   ]
  },
  {
   "cell_type": "markdown",
   "metadata": {},
   "source": [
    "Also calculate the correlation between the x123 and y1,y2,y3 variables. Also do the same for the x4 and y4 variables.\n"
   ]
  },
  {
   "cell_type": "code",
   "execution_count": null,
   "metadata": {},
   "outputs": [],
   "source": [
    "# Calculate correlations here"
   ]
  },
  {
   "cell_type": "markdown",
   "metadata": {},
   "source": [
    "Now, showcase the advantages of visualization by plotting the data. You can use any visualization library you want.\n",
    "\n",
    " For instance in matplotlib you can use the following code to plot data:\n",
    " ```python\n",
    "import matplotlib.pyplot as plt # Import the library\n",
    "\n",
    "fig = plt.figure(figsize=(12, 6)) # Create a figure object\n",
    "x1 = [2,4,6,8,10] # Example x values\n",
    "y1 = [4,4,4,8,8] # Example y values\n",
    "plt.plot(x1, y1, 'o') # Plot the data\n",
    "plt.show() # Show the plot\n",
    "```\n",
    "\n",
    "Check out the documentation on how to create a matrix of 2x2 plots with the data from the Anscombe's Quartet dataset. [Check out subplots in matplotlib documentation](https://matplotlib.org/stable/gallery/subplots_axes_and_figures/subplots_demo.html)"
   ]
  },
  {
   "cell_type": "code",
   "execution_count": null,
   "metadata": {},
   "outputs": [],
   "source": [
    "# Plot the data here"
   ]
  },
  {
   "cell_type": "markdown",
   "metadata": {},
   "source": [
    "## Simple statistics exercise\n",
    "Load the data, each row contains for one person the number of steps that this person took on a particular day (steps), the body mass index (bmi) and gender (male or female). Assume that both traits are normally distributed for males and for females. Consider the following (alternative, not null) hypotheses:\n",
    "\n",
    "  a) There is a difference in the mean number of steps between women and men.\n",
    "\n",
    "  b) The correlation coefficient between steps and bmi is negative for women.\n",
    "\n",
    "  c) The correlation coefficient between steps and bmi is positive for men.\n",
    "\n",
    "\n",
    "Think about which test to use and calculate the corresponding P-value.\n",
    ">  \n",
    "> Hint: You can use the `scipy.stats` library to calculate correlation and the p-value.\n",
    ">\n",
    "> Tip: Check out the `pearsonr` function.\n",
    ">  \n",
    "\n",
    "Which other conclusions can you draw from the data?\n",
    "\n",
    "If you are not familiar to statistics or want to try something else, you can instead (or also) explore the dataset and try to find other interesting insights. Feel free to explore it!\n",
    "\n",
    "\n",
    "**Write a very short report (50-150 words) with your findings and submit it together within the notebook.**\n",
    "\n",
    "**Important:** If possible, try not to share your findings with your colleagues. This is an individual assignment.\n",
    "All students that submit this part of the assignment will receive bonus points.\n"
   ]
  },
  {
   "cell_type": "code",
   "execution_count": null,
   "metadata": {},
   "outputs": [],
   "source": [
    "data = pd.read_csv('../../Datasets/data9b.csv')\n",
    "data.head()"
   ]
  },
  {
   "cell_type": "code",
   "execution_count": null,
   "metadata": {},
   "outputs": [],
   "source": [
    "# Your code here\n"
   ]
  },
  {
   "cell_type": "markdown",
   "metadata": {},
   "source": [
    "> SHORT REPORT HERE"
   ]
  }
 ],
 "metadata": {
  "anaconda-cloud": {},
  "colab": {
   "provenance": [
    {
     "file_id": "https://github.com/yy/dviz-course/blob/master/m01-intro/lab01.ipynb",
     "timestamp": 1683497199468
    }
   ]
  },
  "kernel_info": {
   "name": "dviz"
  },
  "kernelspec": {
   "display_name": "dataviz",
   "language": "python",
   "name": "python3"
  },
  "language_info": {
   "codemirror_mode": {
    "name": "ipython",
    "version": 3
   },
   "file_extension": ".py",
   "mimetype": "text/x-python",
   "name": "python",
   "nbconvert_exporter": "python",
   "pygments_lexer": "ipython3",
   "version": "3.11.11"
  },
  "nteract": {
   "version": "0.14.5"
  }
 },
 "nbformat": 4,
 "nbformat_minor": 0
}
