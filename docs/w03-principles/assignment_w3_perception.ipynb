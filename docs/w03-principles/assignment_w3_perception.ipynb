{
 "cells": [
  {
   "cell_type": "markdown",
   "metadata": {
    "id": "A6iFUUQLNDlE"
   },
   "source": [
    "<table class=\"m01-notebook-buttons\" align=\"left\">\n",
    "  <td>\n",
    "    <a target=\"_blank\" href=\"https://colab.research.google.com/github/filipinascimento/dataviz/blob/master/docs/w03-fundamentals/assignment_w3_perception.ipynb\"><img src=\"https://www.tensorflow.org/images/colab_logo_32px.png\" />Run in Google Colab</a>\n",
    "  </td>\n",
    "  <td>\n",
    "    <a href=\"https://github.com/filipinascimento/dataviz/blob/main/docs/w03-fundamentals/assignment_w3_perception.ipynb\"><img src=\"https://www.tensorflow.org/images/GitHub-Mark-32px.png\" />View on Github</a>\n",
    "  </td>\n",
    "</table>\n"
   ]
  },
  {
   "cell_type": "markdown",
   "metadata": {
    "id": "AV6PXVX8daWu"
   },
   "source": [
    "# Week 3 Assignment: Perception\n",
    "\n",
    "In this assignment, we will perform a small experiment to test the Stevens' power law. \n",
    "\n",
    "You should follow the instructions of this notebook and answer the questions with your code and results.\n",
    "After that, you should convert this notebook to HTML or PDF and submit it via Canvas. For full instructions on how to submit assignments, please check the previous assignment.\n",
    "\n",
    "Check out `why_visualization.ipynb` for bonus points."
   ]
  },
  {
   "cell_type": "markdown",
   "metadata": {},
   "source": [
    "Let's start by importing the necessary libraries."
   ]
  },
  {
   "cell_type": "code",
   "execution_count": 23,
   "metadata": {
    "id": "3a2oZq2JdaWx"
   },
   "outputs": [],
   "source": [
    "import matplotlib.pyplot as plt\n",
    "import random\n",
    "import math\n",
    "import numpy as np\n",
    "%matplotlib inline"
   ]
  },
  {
   "cell_type": "markdown",
   "metadata": {},
   "source": [
    "Let's do an experiment! The procedure is as follows:\n",
    "\n",
    "1. Generate a random number between \\[1, 10\\];\n",
    "1. Use a horizontal bar to represent the number, i.e., the length of the bar is equal to the number;\n",
    "1. Guess the length of the bar by comparing it to two other bars with length 1 and 10 respectively;\n",
    "1. Store your guess (perceived length) and actual length to two separate lists;\n",
    "1. Repeat the above steps many times;\n",
    "1. Check whether Steven's power-law holds.\n",
    "\n",
    "First, let's define the length of a short and a long bar. We also create two empty lists to store perceived and actual length."
   ]
  },
  {
   "cell_type": "code",
   "execution_count": 5,
   "metadata": {},
   "outputs": [],
   "source": [
    "l_short_bar = 1\n",
    "l_long_bar = 10\n",
    "\n",
    "perceived_length_list = []\n",
    "actual_length_list = []"
   ]
  },
  {
   "cell_type": "markdown",
   "metadata": {
    "id": "IKNTGT3xdaW5"
   },
   "source": [
    "### Perception of length\n",
    "\n",
    "Let's run the experiment.\n",
    "\n",
    "The [**`random`**](https://docs.python.org/3.6/library/random.html) module in Python provides various random number generators, and the [**`random.uniform(a,b)`**](https://docs.python.org/3.6/library/random.html#random.uniform) function returns a floating point number in \\[a,b\\]. \n",
    "\n",
    "We can plot horizontal bars using the [**`pyplot.barh()`**](http://matplotlib.org/api/pyplot_api.html#matplotlib.pyplot.barh) function. Using this function, we can produce a bar graph that looks like this:"
   ]
  },
  {
   "cell_type": "code",
   "execution_count": null,
   "metadata": {
    "id": "u3gelUBidaW5",
    "outputId": "dc5dc477-b409-40e7-aa00-ff2823c301f9"
   },
   "outputs": [],
   "source": [
    "mystery_length = random.uniform(1, 10)  # generate a number between 1 and 10. this is the *actual* length.\n",
    "\n",
    "plt.barh(np.arange(3), [l_short_bar, mystery_length, l_long_bar], align='center')\n",
    "plt.yticks(np.arange(3), ('1', '?', '10'))\n",
    "plt.xticks([]) # no hint!"
   ]
  },
  {
   "cell_type": "markdown",
   "metadata": {
    "id": "yy8dkmu2daW6"
   },
   "source": [
    "Btw, `np.arange` is used to create a simple integer list `[0, 1, 2]`. "
   ]
  },
  {
   "cell_type": "code",
   "execution_count": null,
   "metadata": {
    "id": "W65s9lm4daW6",
    "outputId": "ca81097b-b6d1-4229-da7a-3be70575c1cd"
   },
   "outputs": [],
   "source": [
    "np.arange(3)"
   ]
  },
  {
   "cell_type": "markdown",
   "metadata": {
    "id": "2lBZNRtUdaW6"
   },
   "source": [
    "Now let's define a function to perform the experiment once. When you run this function, it picks a random number between 1.0 and 10.0 and show the bar chart. Then it asks you to input your estimate of the length of the middle bar. It then saves that number to the `perceived_length_list` and the actual answer to the `actual_length_list`. \n",
    "\n",
    "Note, if the input box does not appear for you try (1) switching to firefox, OR (2) removing the input line from the code and manually record the numbers in a cell, OR (3) adding a prompt to it like input(\"enter estimation\")"
   ]
  },
  {
   "cell_type": "code",
   "execution_count": 13,
   "metadata": {
    "id": "e_DQBZQydaW6"
   },
   "outputs": [],
   "source": [
    "def run_exp_once():\n",
    "    mystery_length = random.uniform(1, 10)  # generate a number between 1 and 10. \n",
    "\n",
    "    plt.barh(np.arange(3), [l_short_bar, mystery_length, l_long_bar], height=0.5, align='center')\n",
    "    plt.yticks(np.arange(3), ('1', '?', '10'))\n",
    "    plt.xticks([]) # no hint!\n",
    "    plt.show()\n",
    "    \n",
    "    perceived_length_list.append( float(input()) )\n",
    "    actual_length_list.append(mystery_length)"
   ]
  },
  {
   "cell_type": "markdown",
   "metadata": {},
   "source": [
    "Now run the experiment:"
   ]
  },
  {
   "cell_type": "code",
   "execution_count": null,
   "metadata": {
    "id": "5g_ZPmuldaW6",
    "outputId": "84389f8b-d4c4-40fe-aec3-e1945f86d4a2"
   },
   "outputs": [],
   "source": [
    "run_exp_once()"
   ]
  },
  {
   "cell_type": "markdown",
   "metadata": {
    "id": "PB00kn_adaW6"
   },
   "source": [
    "Run the experiment many times to gather your data. Check the two lists to make sure that you have the proper dataset. The length of the two lists should be the same. \n",
    "\n",
    "> **Note**: You can run the experiment as many times as you want. Just rerun the cell or use a for."
   ]
  },
  {
   "cell_type": "code",
   "execution_count": null,
   "metadata": {
    "id": "2QHJYMXBdaW7",
    "outputId": "f42f9684-489e-477d-967a-1ad44e3a68c8"
   },
   "outputs": [],
   "source": [
    "# YOUR SOLUTION HERE"
   ]
  },
  {
   "cell_type": "markdown",
   "metadata": {
    "id": "sDcIUKKcdaW7"
   },
   "source": [
    "### Plotting the result\n",
    "\n",
    "Now we can draw the scatter plot of perceived and actual length. The `matplotlib`'s [**`scatter()`**](http://matplotlib.org/api/pyplot_api.html#matplotlib.pyplot.scatter) function will do this. This is the backend of the pandas' scatterplot. Here is an example of how to use `scatter`:"
   ]
  },
  {
   "cell_type": "code",
   "execution_count": null,
   "metadata": {
    "id": "SDsyY5C0daW7",
    "outputId": "444dd984-3efb-4e38-d82a-884a170c0bff"
   },
   "outputs": [],
   "source": [
    "plt.scatter(x=[1,5,10], y=[1,10, 5])"
   ]
  },
  {
   "cell_type": "markdown",
   "metadata": {
    "id": "Yd7pt5KAdaW7"
   },
   "source": [
    "**Q3: Now plot your result using the `scatter()` function. You should also use `plt.title()`, `plt.xlabel()`, and `plt.ylabel()` to label your axes and the plot itself.**"
   ]
  },
  {
   "cell_type": "code",
   "execution_count": null,
   "metadata": {
    "id": "co_FFK0rdaW7",
    "outputId": "5bdd521e-93fa-4364-ae3c-f7992a2eae90"
   },
   "outputs": [],
   "source": [
    "# YOUR SOLUTION HERE"
   ]
  },
  {
   "cell_type": "markdown",
   "metadata": {
    "id": "NAUGtzsvdaW7"
   },
   "source": [
    "After plotting, let's fit the relation between actual and perceived lengths using a polynomial function. We can easily do it using [**`curve_fit(f, x, y)`**](http://docs.scipy.org/doc/scipy/reference/generated/scipy.optimize.curve_fit.html) in Scipy, which is to fit $x$ and $y$ using the function `f`. In our case, $f = a*x^b +c$. For instance, we can check whether this works by creating a fake dataset that follows the exact form:"
   ]
  },
  {
   "cell_type": "code",
   "execution_count": null,
   "metadata": {
    "id": "T594p1VedaW8",
    "outputId": "d672c4dc-f2e7-4d6a-f546-41e78268d43b"
   },
   "outputs": [],
   "source": [
    "from scipy.optimize import curve_fit\n",
    "\n",
    "def func(x, a, b, c):\n",
    "    return a * np.power(x, b) + c\n",
    "\n",
    "x = np.arange(20)  # [0,1,2,3, ..., 19]\n",
    "y = np.power(x, 2) # [0,1,4,9, ... ]\n",
    "\n",
    "popt, pcov = curve_fit(func, x, y)\n",
    "print('{:.2f} x^{:.2f} + {:.2f}'.format(*popt))"
   ]
  },
  {
   "cell_type": "markdown",
   "metadata": {
    "id": "upXAgK-PdaW8"
   },
   "source": [
    "**Q4: Now fit your data!** Do you see roughly linear relationship between the actual and the perceived lengths? It's ok if you don't!"
   ]
  },
  {
   "cell_type": "code",
   "execution_count": null,
   "metadata": {
    "id": "CfwcFzPIdaW8",
    "outputId": "3bbfbc61-f7ea-40a7-e1f3-2db0834557d6"
   },
   "outputs": [],
   "source": [
    "# YOUR SOLUTION HERE"
   ]
  },
  {
   "cell_type": "markdown",
   "metadata": {
    "id": "wMsxGsrLdaW8"
   },
   "source": [
    "### Perception of area\n",
    "\n",
    "Similar to the above experiment, we now represent a random number as a circle, and the area of the circle is equal to the number.\n",
    "\n",
    "First, calculate the radius of a circle from its area and then plot using the **`Circle()`** function. `plt.Circle((0,0), r)` will plot a circle centered at (0,0) with radius `r`."
   ]
  },
  {
   "cell_type": "code",
   "execution_count": null,
   "metadata": {
    "id": "BE-bNUp6daW8",
    "outputId": "997a07e5-31ed-480d-c17c-f590d1895654"
   },
   "outputs": [],
   "source": [
    "n1 = 0.005\n",
    "n2 = 0.05\n",
    "\n",
    "radius1 = np.sqrt(n1/np.pi) # area = pi * r * r\n",
    "radius2 = np.sqrt(n2/np.pi)\n",
    "random_radius = np.sqrt(n1*random.uniform(1,10)/np.pi)\n",
    "\n",
    "plt.axis('equal')\n",
    "plt.axis('off')\n",
    "circ1 = plt.Circle( (0,0),         radius1, clip_on=False )\n",
    "circ2 = plt.Circle( (4*radius2,0), radius2, clip_on=False )\n",
    "rand_circ = plt.Circle((2*radius2,0), random_radius, clip_on=False )\n",
    "\n",
    "plt.gca().add_artist(circ1)\n",
    "plt.gca().add_artist(circ2)\n",
    "plt.gca().add_artist(rand_circ)"
   ]
  },
  {
   "cell_type": "markdown",
   "metadata": {
    "id": "ZImqzgzkdaW8"
   },
   "source": [
    "Let's have two lists for this experiment.  "
   ]
  },
  {
   "cell_type": "code",
   "execution_count": 21,
   "metadata": {
    "id": "ZjyTQRU0daW8"
   },
   "outputs": [],
   "source": [
    "perceived_area_list = []\n",
    "actual_area_list = []"
   ]
  },
  {
   "cell_type": "markdown",
   "metadata": {
    "id": "UwoojnFAdaW8"
   },
   "source": [
    "And define a function for the experiment. \n",
    "\n",
    "Note, if the input box does not appear for you try (1) switching to firefox, OR (2) removing the input line from the code and manually record the numbers in a cell, OR (3) adding a prompt to it like input(\"enter estimation\")"
   ]
  },
  {
   "cell_type": "code",
   "execution_count": 24,
   "metadata": {
    "id": "mDr43L1IdaW9"
   },
   "outputs": [],
   "source": [
    "def run_area_exp_once(n1=0.005, n2=0.05):    \n",
    "    radius1 = np.sqrt(n1/np.pi) # area = pi * r * r\n",
    "    radius2 = np.sqrt(n2/np.pi)\n",
    "    \n",
    "    mystery_number = random.uniform(1,10)\n",
    "    random_radius = np.sqrt(n1*mystery_number/math.pi)\n",
    "\n",
    "    plt.axis('equal')\n",
    "    plt.axis('off')\n",
    "    circ1 = plt.Circle( (0,0),         radius1, clip_on=False )\n",
    "    circ2 = plt.Circle( (4*radius2,0), radius2, clip_on=False )\n",
    "    rand_circ = plt.Circle((2*radius2,0), random_radius, clip_on=False )\n",
    "    plt.gca().add_artist(circ1)\n",
    "    plt.gca().add_artist(circ2)\n",
    "    plt.gca().add_artist(rand_circ)    \n",
    "    plt.show()\n",
    "    \n",
    "    perceived_area_list.append( float(input()) )\n",
    "    actual_area_list.append(mystery_number)"
   ]
  },
  {
   "cell_type": "markdown",
   "metadata": {
    "id": "fGY8k8o8daW9"
   },
   "source": [
    "**Q5: Now you can run the experiment many times, plot the result, and fit a power-law curve to test the Stevens' power-law!** "
   ]
  },
  {
   "cell_type": "code",
   "execution_count": null,
   "metadata": {
    "id": "71hJ-mdEdaW9"
   },
   "outputs": [],
   "source": [
    "# TODO: put your code here. You can use multiple cells. \n",
    "\n",
    "# YOUR SOLUTION HERE"
   ]
  },
  {
   "cell_type": "markdown",
   "metadata": {
    "id": "OljUL17WdaW9"
   },
   "source": [
    "What is your result? How are the exponents different from each other? Have you observed a result consistent with the Stevens' power-law?"
   ]
  }
 ],
 "metadata": {
  "colab": {
   "provenance": []
  },
  "kernelspec": {
   "display_name": "dataviz",
   "language": "python",
   "name": "python3"
  },
  "language_info": {
   "codemirror_mode": {
    "name": "ipython",
    "version": 3
   },
   "file_extension": ".py",
   "mimetype": "text/x-python",
   "name": "python",
   "nbconvert_exporter": "python",
   "pygments_lexer": "ipython3",
   "version": "3.11.11"
  }
 },
 "nbformat": 4,
 "nbformat_minor": 0
}
