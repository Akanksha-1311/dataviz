{
 "cells": [
  {
   "cell_type": "markdown",
   "metadata": {},
   "source": [
    " # Lecture 10: 1D and Data Mapping\n",
    "\n",
    "\n",
    "\n",
    " In this notebook, we will explore how to visualize data in a **1D** context and how to map data to basic visual elements. We will start by showing some older plotting methods using **matplotlib** and **pandas**, just for context, and then we will move on to **Altair**.\n",
    "\n",
    "\n",
    "\n",
    " The focus here is on taking a **gradual approach** to Altair. We'll begin with very simple examples, then we will progressively introduce more advanced features like `alt.X()` and `alt.Y()`.\n",
    "\n",
    "\n",
    "\n",
    " **Dataset**: We'll use the `heart_data.csv` dataset containing medical examination information. Let’s load it and inspect the first few rows."
   ]
  },
  {
   "cell_type": "code",
   "execution_count": null,
   "metadata": {},
   "outputs": [],
   "source": [
    "import pandas as pd\n",
    "import matplotlib.pyplot as plt\n",
    "import altair as alt\n",
    "\n",
    "# If you're running in a notebook environment that limits rows for interactive charts:\n",
    "alt.data_transformers.disable_max_rows()\n",
    "\n",
    "# Read the dataset\n",
    "df = pd.read_csv(\"../../Datasets/heart_data.csv\")\n",
    "df.head()\n"
   ]
  },
  {
   "cell_type": "markdown",
   "metadata": {},
   "source": [
    " The dataset columns are:\n",
    "\n",
    "\n",
    "\n",
    " - **id**: Patient identifier.\n",
    "\n",
    " - **age**: Age in days (we might convert it to years if needed).\n",
    "\n",
    " - **gender**: 1 (women), 2 (men).\n",
    "\n",
    " - **height**: Height in centimeters.\n",
    "\n",
    " - **weight**: Weight in kilograms.\n",
    "\n",
    " - **ap_hi**: Systolic blood pressure.\n",
    "\n",
    " - **ap_lo**: Diastolic blood pressure.\n",
    "\n",
    " - **cholesterol**: 1 (normal), 2 (above normal), 3 (well above normal).\n",
    "\n",
    " - **gluc**: Glucose level (1, 2, 3 with similar meaning as cholesterol).\n",
    "\n",
    " - **smoke**: Binary (0 if not smoking, 1 if smoking).\n",
    "\n",
    " - **alco**: Binary (0 if not an alcoholic, 1 if alcoholic).\n",
    "\n",
    " - **active**: Binary (0 if not physically active, 1 if physically active).\n",
    "\n",
    " - **cardio**: Binary (0 if no cardiovascular disease, 1 if it is present)."
   ]
  },
  {
   "cell_type": "markdown",
   "metadata": {},
   "source": [
    " ---\n",
    "\n",
    " ## 1. A Quick Look at Matplotlib and Pandas\n",
    "\n",
    "\n",
    "\n",
    " Although our main focus is Altair, let's briefly look at some older methods to understand the evolution of plotting libraries in Python."
   ]
  },
  {
   "cell_type": "code",
   "execution_count": null,
   "metadata": {},
   "outputs": [],
   "source": [
    "# Simple histogram of 'weight' using matplotlib\n",
    "plt.figure(figsize=(8, 4))\n",
    "plt.hist(df['weight'], bins=20, color='lightblue', edgecolor='black')\n",
    "plt.title('Weight Distribution (Matplotlib)')\n",
    "plt.xlabel('Weight (kg)')\n",
    "plt.ylabel('Frequency')\n",
    "plt.show()\n"
   ]
  },
  {
   "cell_type": "markdown",
   "metadata": {},
   "source": [
    " Pandas can also do quick visualizations since it integrates with matplotlib under the hood."
   ]
  },
  {
   "cell_type": "code",
   "execution_count": null,
   "metadata": {},
   "outputs": [],
   "source": [
    "df['height'].plot(kind='box', title='Height Box Plot (Pandas)', ylabel='Height (cm)')\n",
    "plt.show()\n"
   ]
  },
  {
   "cell_type": "markdown",
   "metadata": {},
   "source": [
    " As you can see, matplotlib and pandas are powerful but can sometimes be verbose or less straightforward for interactive or layered visualizations.\n",
    "\n",
    "\n",
    "\n",
    " ---\n",
    "\n",
    " ## 2. Introduction to Altair\n",
    "\n",
    "\n",
    "\n",
    " **Altair** is a declarative statistical visualization library. Here are some key ideas before we start:\n",
    "\n",
    "\n",
    "\n",
    " - **Data**: The data source (typically a pandas DataFrame).\n",
    "\n",
    " - **Mark**: The basic graphical shape (like `mark_bar()`, `mark_circle()`, etc.).\n",
    "\n",
    " - **Encoding**: A mapping between your data columns and visual properties (e.g., color, size, and position).\n",
    "\n",
    " - **Data Types**: Altair uses short type codes when encoding data:\n",
    "\n",
    "   - **Q**: Quantitative (numeric values, e.g., `height`, `weight`).\n",
    "\n",
    "   - **T**: Temporal (time or date).\n",
    "\n",
    "   - **O**: Ordinal (data with an order, e.g., a numeric range grouped in bins).\n",
    "\n",
    "   - **N**: Nominal (categorical data with no intrinsic order, e.g., `gender`).\n",
    "\n",
    "\n",
    "\n",
    " Let’s start **very simply**. We'll make a bar chart counting how many patients fall under each `gender`."
   ]
  },
  {
   "cell_type": "code",
   "execution_count": null,
   "metadata": {},
   "outputs": [],
   "source": [
    "# A minimal Altair chart:\n",
    "\n",
    "basic_1dpoints = alt.Chart(df).mark_point().encode(\n",
    "    # We can specify just the field names if we don't need special config yet.\n",
    "    x='height',\n",
    ")\n",
    "basic_1dpoints\n"
   ]
  },
  {
   "cell_type": "markdown",
   "metadata": {},
   "source": [
    " Basic, right? We just plotted the `height` column as a 1D scatter plot by mapping it to the x-axis.\n",
    "\n",
    " Now, let's create a bar chart counting the number of patients for each `gender`."
   ]
  },
  {
   "cell_type": "code",
   "execution_count": null,
   "metadata": {},
   "outputs": [],
   "source": [
    "basic_bar = alt.Chart(df).mark_bar().encode(\n",
    "    # For a bar chart, if we only mention one dimension, Altair automatically does a 'count()' on the y-axis.\n",
    "    x='gender',\n",
    "    y='count()'\n",
    ")\n",
    "\n",
    "basic_bar\n"
   ]
  },
  {
   "cell_type": "markdown",
   "metadata": {},
   "source": [
    " **How does this work?**\n",
    "\n",
    " - `alt.Chart(df)`: We create a new Chart object using our DataFrame.\n",
    "\n",
    " - `.mark_bar()`: We want bar marks.\n",
    "\n",
    " - `.encode(x='gender', y='count()')`: We encode the `gender` column on the x-axis.\n",
    "\n",
    "   By using `count()`, the bar’s height represents the number of rows for each `gender`.\n",
    "\n",
    "\n",
    "\n",
    " Note that we didn’t specify any data types (`N`, `Q`, etc.) explicitly. In many cases, Altair can infer them. However, let's be explicit to demonstrate best practices."
   ]
  },
  {
   "cell_type": "code",
   "execution_count": null,
   "metadata": {},
   "outputs": [],
   "source": [
    "# Let's do the same chart but specifying types:\n",
    "basic_bar_explicit = alt.Chart(df).mark_bar().encode(\n",
    "    x='gender:N',      # Treat gender as Nominal (categorical)\n",
    "    y='count()'        # A built-in aggregation for counting rows\n",
    ")\n",
    "\n",
    "basic_bar_explicit\n"
   ]
  },
  {
   "cell_type": "markdown",
   "metadata": {},
   "source": [
    " ## 3. Understanding Data Types in Altair\n",
    "\n",
    "\n",
    "\n",
    " Altair recognizes several types of data and uses these type codes within the encoding channels:\n",
    "\n",
    "\n",
    "\n",
    " - **Quantitative (Q)**: Numeric values, such as `height`, `weight`, or any continuous measurement.\n",
    "\n",
    " - **Temporal (T)**: Time or date values, often used for time-series data.\n",
    "\n",
    " - **Ordinal (O)**: Data with a logical order or ranking (e.g., small < medium < large).\n",
    "\n",
    " - **Nominal (N)**: Categorical data with no intrinsic order (e.g., `gender`, `cholesterol` levels if treated as categories).\n",
    "\n",
    "\n",
    "\n",
    " By default, Altair often *infers* these data types, but being explicit can help avoid confusion—especially when customizing how data is displayed.\n",
    "\n",
    "\n",
    "\n",
    " Let’s explore a histogram of the `weight` column using Altair. Because `weight` is quantitative (Q), we can `bin` the values to see their distribution."
   ]
  },
  {
   "cell_type": "code",
   "execution_count": null,
   "metadata": {},
   "outputs": [],
   "source": [
    "hist_weight = alt.Chart(df).mark_bar().encode(\n",
    "    alt.X('weight:Q', bin=True, title='Weight (kg)'),  # Bin the weight values\n",
    "    alt.Y('count()', title='Count of Patients')\n",
    ").properties(\n",
    "    width=400,\n",
    "    height=200,\n",
    "    title='Histogram of Weight'\n",
    ")\n",
    "\n",
    "hist_weight\n"
   ]
  },
  {
   "cell_type": "markdown",
   "metadata": {},
   "source": [
    "## 4. Composing plots\n",
    "Altair allows us to combine multiple plots into a single visualization. We can use the `|` operator to place them side by side or the `&` operator to stack them vertically.\n",
    "\n",
    "Create a boxplot of height for each gender and combine\n"
   ]
  },
  {
   "cell_type": "code",
   "execution_count": null,
   "metadata": {},
   "outputs": [],
   "source": [
    "\n",
    "box_height_gender1 = alt.Chart(df.query(\"gender == 1\")).mark_boxplot().encode(\n",
    "    y='height:Q'\n",
    ").properties(\n",
    "    width=300,\n",
    "    title='Distribution of Height for Gender 1'\n",
    ")\n",
    "\n",
    "box_height_gender2 = alt.Chart(df.query(\"gender == 2\")).mark_boxplot().encode(\n",
    "    y='height:Q'\n",
    ").properties(\n",
    "    width=300,\n",
    "    title='Distribution of Height for Gender 2'\n",
    ")\n",
    "\n",
    "                               \n",
    "\n",
    "box_height_gender1|box_height_gender2\n",
    "\n",
    "\n",
    "\n",
    "# ## 5. Customizing Encodings\n",
    "#\n",
    "# Altair allows us to map columns to various visual channels such as:\n",
    "#\n",
    "# - `alt.X()` and `alt.Y()` for positions on horizontal/vertical axes.\n",
    "# - `alt.Color()` for color.\n",
    "# - `alt.Size()` for size.\n",
    "# - `alt.Opacity()`, `alt.Shape()`, etc.\n",
    "#\n",
    "# We can also customize scales, legends, and axis labels.\n",
    "#\n",
    "# Let’s try something a bit more interesting: a **box plot** of `height` by `gender`. Since gender is nominal, we want to ensure we specify that, and let Altair do the rest.\n",
    "#\n",
    "# ### 5.1 Box Plot of Height Grouped by Gender\n"
   ]
  },
  {
   "cell_type": "code",
   "execution_count": null,
   "metadata": {},
   "outputs": [],
   "source": [
    "box_height_gender = alt.Chart(df).mark_boxplot().encode(\n",
    "    x='gender:N',       # Nominal\n",
    "    y='height:Q',        # Quantitative\n",
    "    # color=\"gender:N\",\n",
    ").properties(\n",
    "    width=300,\n",
    "    title='Distribution of Height by Gender'\n",
    ")\n",
    "\n",
    "box_height_gender\n"
   ]
  },
  {
   "cell_type": "markdown",
   "metadata": {},
   "source": [
    " This gives us a quick statistical summary of the `height` distribution for each gender.\n",
    "\n",
    "\n",
    "\n",
    " ---\n",
    "\n",
    " ## 6. Plotting Multiple Variables: Scatter Plots\n",
    "\n",
    "\n",
    "\n",
    " One of the most common ways to look for relationships between two quantitative variables is through a **scatter plot**. In our dataset, `weight` and `height` are both good examples of continuous (Q) variables.\n",
    "\n",
    "\n",
    "\n",
    " ### 6.1 Basic Scatter Plot of Weight vs. Height"
   ]
  },
  {
   "cell_type": "code",
   "execution_count": null,
   "metadata": {},
   "outputs": [],
   "source": [
    "scatter_wh = alt.Chart(df).mark_point().encode(\n",
    "    x='height:Q',\n",
    "    y='weight:Q'\n",
    ").properties(\n",
    "    width=400,\n",
    "    height=300,\n",
    "    title='Scatter Plot: Weight vs. Height'\n",
    ")\n",
    "\n",
    "scatter_wh\n"
   ]
  },
  {
   "cell_type": "markdown",
   "metadata": {},
   "source": [
    " This basic scatter plot shows how height (x-axis) relates to weight (y-axis), but it's just a simple cloud of points.\n",
    "\n",
    "\n",
    "\n",
    " ### 6.2 Adding Color to Represent a Third Variable\n",
    "\n",
    "\n",
    "\n",
    " Often, we want to see how a third variable might influence the relationship between two numeric variables. For example, let's color our points by `gender`.\n",
    "\n",
    "\n",
    "\n",
    " - `gender` is categorical, so we use `:N` or `:O`.\n",
    "\n",
    " - We can directly specify `alt.Color('gender:N')`."
   ]
  },
  {
   "cell_type": "code",
   "execution_count": null,
   "metadata": {},
   "outputs": [],
   "source": [
    "scatter_wh_color = alt.Chart(df).mark_point(\n",
    "    filled=True,  # Filled circles\n",
    "    size=50       # Larger size\n",
    ").encode(\n",
    "    x='height:Q',\n",
    "    y='weight:Q',\n",
    "    color='gender:N'  # Color points by gender\n",
    ").properties(\n",
    "    width=400,\n",
    "    height=300,\n",
    "    title='Weight vs. Height Colored by Gender'\n",
    ")\n",
    "\n",
    "scatter_wh_color\n"
   ]
  },
  {
   "cell_type": "markdown",
   "metadata": {},
   "source": [
    " Now we can see how male and female patients (in this dataset, labeled 2 and 1, respectively) may occupy different regions in the height-weight space.\n",
    "\n",
    "\n",
    "\n",
    " **Tip**: If you want to make the legend or color scale more descriptive, you can replace the numeric codes (1 and 2) with actual labels. One way is to create a mapping in your DataFrame before plotting:\n",
    "\n",
    "\n",
    "\n",
    " ```python\n",
    "\n",
    " gender_map = {1: 'Female', 2: 'Male'}\n",
    "\n",
    " df['gender_label'] = df['gender'].map(gender_map)\n",
    "\n",
    " ```\n",
    "\n",
    "\n",
    "\n",
    " Then encode:\n",
    "\n",
    "\n",
    "\n",
    " ```python\n",
    "\n",
    " color='gender_label:N'\n",
    "\n",
    " ```\n",
    "\n",
    "\n",
    "\n",
    " ---\n",
    "\n",
    " ## 7. Putting It All Together\n",
    "\n",
    "\n",
    "\n",
    " Below is a final example combining some of these concepts:\n",
    "\n",
    "\n",
    "\n",
    " - **Histogram** to see the distribution of `height`.\n",
    "\n",
    " - **Scatter plot** of `height` vs. `weight` with color by `gender`.\n",
    "\n",
    " - We also add some descriptive properties like titles and axis labels."
   ]
  },
  {
   "cell_type": "code",
   "execution_count": null,
   "metadata": {},
   "outputs": [],
   "source": [
    "# Histogram of height (binned)\n",
    "hist_height = alt.Chart(df).mark_bar().encode(\n",
    "    alt.X('height:Q', bin=True, title='Height (cm)'),\n",
    "    alt.Y('count()', title='Count')\n",
    ").properties(\n",
    "    width=300,\n",
    "    height=200,\n",
    "    title='Histogram of Height'\n",
    ")\n",
    "\n",
    "# Scatter plot of height vs. weight colored by gender\n",
    "scatter_hw_gender = alt.Chart(df).mark_point().encode(\n",
    "    alt.X('height:Q', title='Height (cm)'),\n",
    "    alt.Y('weight:Q', title='Weight (kg)'),\n",
    "    alt.Color('gender:N', title='Gender')\n",
    ").properties(\n",
    "    width=300,\n",
    "    height=200,\n",
    "    title='Scatter: Height vs Weight'\n",
    ")\n",
    "\n",
    "# Combine the two charts side by side\n",
    "combined_charts = hist_height | scatter_hw_gender\n",
    "combined_charts\n",
    "\n"
   ]
  },
  {
   "cell_type": "markdown",
   "metadata": {},
   "source": [
    " ## 8. Cholesterol levels vs. Cardiovascular Disease\n",
    "\n",
    " High cholesterol levels have long been associated with an increased risk of heart disease. In this chart, we compare the proportion of cardiovascular disease (`cardio`) across three categories of cholesterol: **Normal**, **Above Normal**, and **Well Above Normal**.\n",
    "\n",
    " Create descriptive labels for cholesterol categories\n",
    "\n",
    " Stacked bar chart showing the proportion of patients with/without CVD in each cholesterol category"
   ]
  },
  {
   "cell_type": "code",
   "execution_count": null,
   "metadata": {},
   "outputs": [],
   "source": [
    "cholesterol_cvd_chart = (\n",
    "    alt.Chart(df)\n",
    "    .mark_bar()\n",
    "    .encode(\n",
    "        x=alt.X('cholesterol:O', title='Cholesterol Level'),\n",
    "        # Use stack='normalize' on the y-axis to see proportions instead of raw counts\n",
    "        y=alt.Y('count()', stack='normalize', title='Proportion of Patients'),\n",
    "        color=alt.Color('cardio:N', title='Has CVD?'),\n",
    "        tooltip=['count()']  # Optional: see raw counts on hover\n",
    "    )\n",
    "    .properties(title='Proportion of Cardiovascular Disease by Cholesterol Level')\n",
    ")\n",
    "\n",
    "cholesterol_cvd_chart"
   ]
  },
  {
   "cell_type": "code",
   "execution_count": null,
   "metadata": {},
   "outputs": [],
   "source": []
  }
 ],
 "metadata": {
  "kernelspec": {
   "display_name": "dataviz",
   "language": "python",
   "name": "python3"
  },
  "language_info": {
   "codemirror_mode": {
    "name": "ipython",
    "version": 3
   },
   "file_extension": ".py",
   "mimetype": "text/x-python",
   "name": "python",
   "nbconvert_exporter": "python",
   "pygments_lexer": "ipython3",
   "version": "3.11.11"
  }
 },
 "nbformat": 4,
 "nbformat_minor": 2
}
